{
 "cells": [
  {
   "cell_type": "markdown",
   "metadata": {},
   "source": [
    "# Minimize the cost of shipment, given that Argentina can not manufacture. "
   ]
  },
  {
   "cell_type": "code",
   "execution_count": 1,
   "metadata": {
    "collapsed": true
   },
   "outputs": [],
   "source": [
    "using JuMP"
   ]
  },
  {
   "cell_type": "markdown",
   "metadata": {},
   "source": [
    "# 2016"
   ]
  },
  {
   "cell_type": "code",
   "execution_count": 12,
   "metadata": {
    "collapsed": false
   },
   "outputs": [
    {
     "name": "stdout",
     "output_type": "stream",
     "text": [
      "Solving original problem...\n",
      "Optimal!\n",
      "Objective value: 30639.00\n",
      "Transpotation:\n",
      "\tILN\tBLG\tJPN\tCHN\tMEX\tPER\tSINK\n",
      "LAF\t8.86\t0.74\t0.00\t0.00\t2.96\t0.00\t3.44\n",
      "PAB\t0.00\t0.00\t8.26\t2.32\t0.00\t4.42\t0.00\n",
      "MDP-LAF\t0.00\t0.00\t0.00\t0.00\t0.00\t0.00\t16.00\n",
      "MDP-PAB\t0.00\t0.00\t0.00\t6.54\t0.00\t0.00\t9.46\n"
     ]
    }
   ],
   "source": [
    "ORIG = [\"LAF\", \"PAB\", \"MDP-LAF\", \"MDP-PAB\"];\n",
    "DEST = [\"ILN\", \"BLG\", \"JPN\", \"CHN\", \"MEX\", \"PER\", \"SINK\"];\n",
    "\n",
    "supply = [16 15 16 16];\n",
    "AR=16\n",
    "demand = [8.86 0.74 8.26 8.86 2.96 4.42 0]\n",
    "\n",
    "\n",
    "#@assert sum(supply) == sum(demand);\n",
    "al = 600\n",
    "ab = 120\n",
    "cost = [\n",
    "120         1250      2580      2300      450      720   0;\n",
    "670         1350      1550      1450      400      200   0;\n",
    "720+al   1330+al   1550+al   1450+al   450+al   220+al   0;\n",
    "720+ab   1330+ab   1550+ab   1450+ab   450+ab   220+ab   0;\n",
    "]\n",
    "\n",
    "m = Model();\n",
    "\n",
    "@variable(m, Trans[i=1:length(ORIG), j=1:length(DEST)] >= 0);\n",
    "\n",
    "\n",
    "@objective(m, Min, sum{cost[i,j] * Trans[i,j], i=1:length(ORIG), j=1:length(DEST)});\n",
    "\n",
    "@constraint(m, xyconstr[i=1:1:length(ORIG)], sum{Trans[i,j], j=1:length(DEST)} == supply[i]);\n",
    "\n",
    "@constraint(m, xyconstr[j = 1:length(DEST)], sum{Trans[i,j], i=1:length(ORIG)} >= demand[j]);\n",
    "\n",
    "@constraint(m, xyconstr[j = 1:length(DEST)], sum{Trans[i,j], i=3:(length(ORIG)-1)} <= AR);\n",
    "\n",
    "\n",
    "println(\"Solving original problem...\")\n",
    "status = solve(m);\n",
    "\n",
    "if status == :Optimal\n",
    "    @printf(\"Optimal!\\n\");\n",
    "    @printf(\"Objective value: %.2f\\n\", getobjectivevalue(m));\n",
    "    @printf(\"Transpotation:\\n\");\n",
    "    for j = 1:length(DEST)\n",
    "        @printf(\"\\t%s\", DEST[j]);\n",
    "    end\n",
    "    @printf(\"\\n\");\n",
    "    for i = 1:length(ORIG)\n",
    "        @printf(\"%s\", ORIG[i]);\n",
    "        for j = 1:length(DEST)\n",
    "            @printf(\"\\t%.2f\", getvalue(Trans[i,j]));\n",
    "        end\n",
    "        @printf(\"\\n\");\n",
    "    end\n",
    "else\n",
    "    @printf(\"No solution\\n\");\n",
    "end"
   ]
  },
  {
   "cell_type": "markdown",
   "metadata": {},
   "source": [
    "# 2017"
   ]
  },
  {
   "cell_type": "code",
   "execution_count": 8,
   "metadata": {
    "collapsed": false
   },
   "outputs": [
    {
     "name": "stdout",
     "output_type": "stream",
     "text": [
      "Solving original problem...\n",
      "Optimal!\n",
      "Objective value: 33202.50\n",
      "Transpotation:\n",
      "\tILN\tBLG\tJPN\tCHN\tMEX\tPER\tSINK\n",
      "LAF\t9.66\t0.81\t0.00\t0.00\t3.22\t0.00\t2.31\n",
      "PAB\t0.00\t0.00\t9.00\t4.17\t0.00\t4.83\t0.00\n",
      "MDP-LAF\t0.00\t0.00\t0.00\t0.00\t0.00\t0.00\t18.00\n",
      "MDP-PAB\t0.00\t0.00\t0.00\t5.49\t0.00\t0.00\t12.51\n"
     ]
    }
   ],
   "source": [
    "ORIG = [\"LAF\", \"PAB\", \"MDP-LAF\", \"MDP-PAB\"];\n",
    "DEST = [\"ILN\", \"BLG\", \"JPN\", \"CHN\", \"MEX\", \"PER\", \"SINK\"];\n",
    "\n",
    "supply = [16 18 18 18];\n",
    "AR=18\n",
    "demand = [9.66 0.81 9 9.66 3.22 4.83 0]\n",
    "\n",
    "\n",
    "#@assert sum(supply) == sum(demand);\n",
    "al = 600\n",
    "ab = 120\n",
    "cost = [\n",
    "120         1250      2580      2300      450      720   0;\n",
    "670         1350      1550      1450      400      200   0;\n",
    "720+al   1330+al   1550+al   1450+al   450+al   220+al   0;\n",
    "720+ab   1330+ab   1550+ab   1450+ab   450+ab   220+ab   0;\n",
    "]\n",
    "\n",
    "m = Model();\n",
    "\n",
    "@variable(m, Trans[i=1:length(ORIG), j=1:length(DEST)] >= 0);\n",
    "\n",
    "\n",
    "@objective(m, Min, sum{cost[i,j] * Trans[i,j], i=1:length(ORIG), j=1:length(DEST)});\n",
    "\n",
    "@constraint(m, xyconstr[i=1:1:length(ORIG)], sum{Trans[i,j], j=1:length(DEST)} == supply[i]);\n",
    "\n",
    "@constraint(m, xyconstr[j = 1:length(DEST)], sum{Trans[i,j], i=1:length(ORIG)} >= demand[j]);\n",
    "\n",
    "@constraint(m, xyconstr[j = 1:length(DEST)], sum{Trans[i,j], i=3:(length(ORIG)-1)} <= AR);\n",
    "\n",
    "\n",
    "println(\"Solving original problem...\")\n",
    "status = solve(m);\n",
    "\n",
    "if status == :Optimal\n",
    "    @printf(\"Optimal!\\n\");\n",
    "    @printf(\"Objective value: %.2f\\n\", getobjectivevalue(m));\n",
    "    @printf(\"Transpotation:\\n\");\n",
    "    for j = 1:length(DEST)\n",
    "        @printf(\"\\t%s\", DEST[j]);\n",
    "    end\n",
    "    @printf(\"\\n\");\n",
    "    for i = 1:length(ORIG)\n",
    "        @printf(\"%s\", ORIG[i]);\n",
    "        for j = 1:length(DEST)\n",
    "            @printf(\"\\t%.2f\", getvalue(Trans[i,j]));\n",
    "        end\n",
    "        @printf(\"\\n\");\n",
    "    end\n",
    "else\n",
    "    @printf(\"No solution\\n\");\n",
    "end"
   ]
  },
  {
   "cell_type": "markdown",
   "metadata": {},
   "source": [
    "# 2018"
   ]
  },
  {
   "cell_type": "code",
   "execution_count": 9,
   "metadata": {
    "collapsed": false
   },
   "outputs": [
    {
     "name": "stdout",
     "output_type": "stream",
     "text": [
      "Solving original problem...\n",
      "Optimal!\n",
      "Objective value: 41357.80\n",
      "Transpotation:\n",
      "\tILN\tBLG\tJPN\tCHN\tMEX\tPER\tSINK\n",
      "LAF\t11.88\t0.99\t0.00\t0.00\t3.96\t0.00\t4.17\n",
      "PAB\t0.00\t0.00\t11.09\t0.97\t0.00\t5.94\t0.00\n",
      "MDP-LAF\t0.00\t0.00\t0.00\t0.00\t0.00\t0.00\t12.00\n",
      "MDP-PAB\t0.00\t0.00\t0.00\t10.91\t0.00\t0.00\t1.09\n"
     ]
    }
   ],
   "source": [
    "ORIG = [\"LAF\", \"PAB\", \"MDP-LAF\", \"MDP-PAB\"];\n",
    "DEST = [\"ILN\", \"BLG\", \"JPN\", \"CHN\", \"MEX\", \"PER\", \"SINK\"];\n",
    "\n",
    "supply = [21 18 12 12];\n",
    "AR=12\n",
    "demand = [11.88 0.99 11.09 11.88 3.96 5.94 0]\n",
    "\n",
    "\n",
    "#@assert sum(supply) == sum(demand);\n",
    "al = 600\n",
    "ab = 120\n",
    "cost = [\n",
    "120         1250      2580      2300      450      720   0;\n",
    "670         1350      1550      1450      400      200   0;\n",
    "720+al   1330+al   1550+al   1450+al   450+al   220+al   0;\n",
    "720+ab   1330+ab   1550+ab   1450+ab   450+ab   220+ab   0;\n",
    "]\n",
    "\n",
    "m = Model();\n",
    "\n",
    "@variable(m, Trans[i=1:length(ORIG), j=1:length(DEST)] >= 0);\n",
    "\n",
    "\n",
    "@objective(m, Min, sum{cost[i,j] * Trans[i,j], i=1:length(ORIG), j=1:length(DEST)});\n",
    "\n",
    "@constraint(m, xyconstr[i=1:1:length(ORIG)], sum{Trans[i,j], j=1:length(DEST)} == supply[i]);\n",
    "\n",
    "@constraint(m, xyconstr[j = 1:length(DEST)], sum{Trans[i,j], i=1:length(ORIG)} >= demand[j]);\n",
    "\n",
    "@constraint(m, xyconstr[j = 1:length(DEST)], sum{Trans[i,j], i=3:(length(ORIG)-1)} <= AR);\n",
    "\n",
    "\n",
    "println(\"Solving original problem...\")\n",
    "status = solve(m);\n",
    "\n",
    "if status == :Optimal\n",
    "    @printf(\"Optimal!\\n\");\n",
    "    @printf(\"Objective value: %.2f\\n\", getobjectivevalue(m));\n",
    "    @printf(\"Transpotation:\\n\");\n",
    "    for j = 1:length(DEST)\n",
    "        @printf(\"\\t%s\", DEST[j]);\n",
    "    end\n",
    "    @printf(\"\\n\");\n",
    "    for i = 1:length(ORIG)\n",
    "        @printf(\"%s\", ORIG[i]);\n",
    "        for j = 1:length(DEST)\n",
    "            @printf(\"\\t%.2f\", getvalue(Trans[i,j]));\n",
    "        end\n",
    "        @printf(\"\\n\");\n",
    "    end\n",
    "else\n",
    "    @printf(\"No solution\\n\");\n",
    "end"
   ]
  },
  {
   "cell_type": "markdown",
   "metadata": {},
   "source": [
    "# 2019"
   ]
  },
  {
   "cell_type": "code",
   "execution_count": 10,
   "metadata": {
    "collapsed": false
   },
   "outputs": [
    {
     "name": "stdout",
     "output_type": "stream",
     "text": [
      "Solving original problem...\n",
      "Optimal!\n",
      "Objective value: 43292.70\n",
      "Transpotation:\n",
      "\tILN\tBLG\tJPN\tCHN\tMEX\tPER\tSINK\n",
      "LAF\t12.56\t1.04\t0.00\t0.00\t4.16\t0.00\t4.24\n",
      "PAB\t0.00\t0.00\t11.64\t2.12\t0.00\t6.24\t0.00\n",
      "MDP-LAF\t0.00\t0.00\t0.00\t0.00\t0.00\t0.00\t20.00\n",
      "MDP-PAB\t0.00\t0.00\t0.00\t10.35\t0.00\t0.00\t9.65\n"
     ]
    }
   ],
   "source": [
    "ORIG = [\"LAF\", \"PAB\", \"MDP-LAF\", \"MDP-PAB\"];\n",
    "DEST = [\"ILN\", \"BLG\", \"JPN\", \"CHN\", \"MEX\", \"PER\", \"SINK\"];\n",
    "\n",
    "supply = [22 20 20 20];\n",
    "AR=20\n",
    "demand = [12.56 1.04 11.64 12.47 4.16 6.24 0]\n",
    "\n",
    "\n",
    "#@assert sum(supply) == sum(demand);\n",
    "al = 600\n",
    "ab = 120\n",
    "cost = [\n",
    "120         1250      2580      2300      450      720   0;\n",
    "670         1350      1550      1450      400      200   0;\n",
    "720+al   1330+al   1550+al   1450+al   450+al   220+al   0;\n",
    "720+ab   1330+ab   1550+ab   1450+ab   450+ab   220+ab   0;\n",
    "]\n",
    "\n",
    "m = Model();\n",
    "\n",
    "@variable(m, Trans[i=1:length(ORIG), j=1:length(DEST)] >= 0);\n",
    "\n",
    "\n",
    "@objective(m, Min, sum{cost[i,j] * Trans[i,j], i=1:length(ORIG), j=1:length(DEST)});\n",
    "\n",
    "@constraint(m, xyconstr[i=1:1:length(ORIG)], sum{Trans[i,j], j=1:length(DEST)} == supply[i]);\n",
    "\n",
    "@constraint(m, xyconstr[j = 1:length(DEST)], sum{Trans[i,j], i=1:length(ORIG)} >= demand[j]);\n",
    "\n",
    "@constraint(m, xyconstr[j = 1:length(DEST)], sum{Trans[i,j], i=3:(length(ORIG)-1)} <= AR);\n",
    "\n",
    "\n",
    "println(\"Solving original problem...\")\n",
    "status = solve(m);\n",
    "\n",
    "if status == :Optimal\n",
    "    @printf(\"Optimal!\\n\");\n",
    "    @printf(\"Objective value: %.2f\\n\", getobjectivevalue(m));\n",
    "    @printf(\"Transpotation:\\n\");\n",
    "    for j = 1:length(DEST)\n",
    "        @printf(\"\\t%s\", DEST[j]);\n",
    "    end\n",
    "    @printf(\"\\n\");\n",
    "    for i = 1:length(ORIG)\n",
    "        @printf(\"%s\", ORIG[i]);\n",
    "        for j = 1:length(DEST)\n",
    "            @printf(\"\\t%.2f\", getvalue(Trans[i,j]));\n",
    "        end\n",
    "        @printf(\"\\n\");\n",
    "    end\n",
    "else\n",
    "    @printf(\"No solution\\n\");\n",
    "end"
   ]
  },
  {
   "cell_type": "markdown",
   "metadata": {},
   "source": [
    "# 2020"
   ]
  },
  {
   "cell_type": "code",
   "execution_count": 11,
   "metadata": {
    "collapsed": false
   },
   "outputs": [
    {
     "name": "stdout",
     "output_type": "stream",
     "text": [
      "Solving original problem...\n",
      "Optimal!\n",
      "Objective value: 48481.30\n",
      "Transpotation:\n",
      "\tILN\tBLG\tJPN\tCHN\tMEX\tPER\tSINK\n",
      "LAF\t14.02\t1.17\t0.00\t0.00\t4.67\t0.00\t8.14\n",
      "PAB\t0.00\t0.00\t13.09\t3.90\t0.00\t7.01\t0.00\n",
      "MDP-LAF\t0.00\t0.00\t0.00\t0.00\t0.00\t0.00\t21.00\n",
      "MDP-PAB\t0.00\t0.00\t0.00\t10.12\t0.00\t0.00\t10.88\n"
     ]
    }
   ],
   "source": [
    "ORIG = [\"LAF\", \"PAB\", \"MDP-LAF\", \"MDP-PAB\"];\n",
    "DEST = [\"ILN\", \"BLG\", \"JPN\", \"CHN\", \"MEX\", \"PER\", \"SINK\"];\n",
    "\n",
    "supply = [28 24 21 21];\n",
    "AR=21\n",
    "demand = [14.02 1.17 13.09 14.02 4.67 7.01 0]\n",
    "\n",
    "\n",
    "#@assert sum(supply) == sum(demand);\n",
    "al = 600\n",
    "ab = 120\n",
    "cost = [\n",
    "120         1250      2580      2300      450      720   0;\n",
    "670         1350      1550      1450      400      200   0;\n",
    "720+al   1330+al   1550+al   1450+al   450+al   220+al   0;\n",
    "720+ab   1330+ab   1550+ab   1450+ab   450+ab   220+ab   0;\n",
    "]\n",
    "\n",
    "m = Model();\n",
    "\n",
    "@variable(m, Trans[i=1:length(ORIG), j=1:length(DEST)] >= 0);\n",
    "\n",
    "\n",
    "@objective(m, Min, sum{cost[i,j] * Trans[i,j], i=1:length(ORIG), j=1:length(DEST)});\n",
    "\n",
    "@constraint(m, xyconstr[i=1:1:length(ORIG)], sum{Trans[i,j], j=1:length(DEST)} == supply[i]);\n",
    "\n",
    "@constraint(m, xyconstr[j = 1:length(DEST)], sum{Trans[i,j], i=1:length(ORIG)} >= demand[j]);\n",
    "\n",
    "@constraint(m, xyconstr[j = 1:length(DEST)], sum{Trans[i,j], i=3:(length(ORIG)-1)} <= AR);\n",
    "\n",
    "\n",
    "println(\"Solving original problem...\")\n",
    "status = solve(m);\n",
    "\n",
    "if status == :Optimal\n",
    "    @printf(\"Optimal!\\n\");\n",
    "    @printf(\"Objective value: %.2f\\n\", getobjectivevalue(m));\n",
    "    @printf(\"Transpotation:\\n\");\n",
    "    for j = 1:length(DEST)\n",
    "        @printf(\"\\t%s\", DEST[j]);\n",
    "    end\n",
    "    @printf(\"\\n\");\n",
    "    for i = 1:length(ORIG)\n",
    "        @printf(\"%s\", ORIG[i]);\n",
    "        for j = 1:length(DEST)\n",
    "            @printf(\"\\t%.2f\", getvalue(Trans[i,j]));\n",
    "        end\n",
    "        @printf(\"\\n\");\n",
    "    end\n",
    "else\n",
    "    @printf(\"No solution\\n\");\n",
    "end"
   ]
  },
  {
   "cell_type": "code",
   "execution_count": null,
   "metadata": {
    "collapsed": true
   },
   "outputs": [],
   "source": []
  }
 ],
 "metadata": {
  "kernelspec": {
   "display_name": "Julia 0.4.7",
   "language": "julia",
   "name": "julia-0.4"
  },
  "language_info": {
   "file_extension": ".jl",
   "mimetype": "application/julia",
   "name": "julia",
   "version": "0.4.7"
  }
 },
 "nbformat": 4,
 "nbformat_minor": 0
}
