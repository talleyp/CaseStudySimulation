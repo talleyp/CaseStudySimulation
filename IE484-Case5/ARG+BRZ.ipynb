{
 "cells": [
  {
   "cell_type": "code",
   "execution_count": 1,
   "metadata": {
    "collapsed": true
   },
   "outputs": [],
   "source": [
    "using JuMP"
   ]
  },
  {
   "cell_type": "markdown",
   "metadata": {},
   "source": [
    "# 2016"
   ]
  },
  {
   "cell_type": "code",
   "execution_count": 2,
   "metadata": {
    "collapsed": false
   },
   "outputs": [
    {
     "name": "stdout",
     "output_type": "stream",
     "text": [
      "Solving original problem...\n",
      "Optimal!\n",
      "Objective value: 36653.40\n",
      "Transpotation:\n",
      "\tILN\tBLG\tJPN\tCHN\tMEX\tPER\tSINK\n",
      "MDP\t0.00\t0.74\t8.26\t7.00\t0.00\t0.00\t0.00\n",
      "PAB\t5.76\t0.00\t0.00\t1.86\t2.96\t4.42\t0.00\n",
      "LAF-MDP\t0.00\t0.00\t0.00\t0.00\t0.00\t0.00\t16.00\n",
      "LAF-PAB\t3.10\t0.00\t0.00\t0.00\t0.00\t0.00\t12.90\n"
     ]
    }
   ],
   "source": [
    "ORIG = [\"MDP\", \"PAB\", \"LAF-MDP\", \"LAF-PAB\"];\n",
    "DEST = [\"ILN\", \"BLG\", \"JPN\", \"CHN\", \"MEX\", \"PER\", \"SINK\"];\n",
    "\n",
    "supply = [16 15 16 16];\n",
    "US=16\n",
    "demand = [8.86 0.74 8.26 8.86 2.96 4.42 0]\n",
    "\n",
    "\n",
    "#@assert sum(supply) == sum(demand);\n",
    "la = 750\n",
    "lb = 650\n",
    "cost = [\n",
    "720         1330      1550      1450      450      220   0;\n",
    "670         1350      1550      1450      400      200   0;\n",
    "720+la   1330+la   1550+la   1450+la   450+la   220+la   0;\n",
    "670+lb   1350+lb   1550+lb   1450+lb   400+lb   200+lb   0;\n",
    "]\n",
    "\n",
    "m = Model();\n",
    "\n",
    "@variable(m, Trans[i=1:length(ORIG), j=1:length(DEST)] >= 0);\n",
    "\n",
    "\n",
    "@objective(m, Min, sum{cost[i,j] * Trans[i,j], i=1:length(ORIG), j=1:length(DEST)});\n",
    "\n",
    "@constraint(m, xyconstr[i=1:1:length(ORIG)], sum{Trans[i,j], j=1:length(DEST)} == supply[i]);\n",
    "\n",
    "@constraint(m, xyconstr[j = 1:length(DEST)], sum{Trans[i,j], i=1:length(ORIG)} >= demand[j]);\n",
    "\n",
    "@constraint(m, xyconstr[j = 1:length(DEST)], sum{Trans[i,j], i=3:(length(ORIG)-1)} <= US);\n",
    "\n",
    "\n",
    "println(\"Solving original problem...\")\n",
    "status = solve(m);\n",
    "\n",
    "if status == :Optimal\n",
    "    @printf(\"Optimal!\\n\");\n",
    "    @printf(\"Objective value: %.2f\\n\", getobjectivevalue(m));\n",
    "    @printf(\"Transpotation:\\n\");\n",
    "    for j = 1:length(DEST)\n",
    "        @printf(\"\\t%s\", DEST[j]);\n",
    "    end\n",
    "    @printf(\"\\n\");\n",
    "    for i = 1:length(ORIG)\n",
    "        @printf(\"%s\", ORIG[i]);\n",
    "        for j = 1:length(DEST)\n",
    "            @printf(\"\\t%.2f\", getvalue(Trans[i,j]));\n",
    "        end\n",
    "        @printf(\"\\n\");\n",
    "    end\n",
    "else\n",
    "    @printf(\"No solution\\n\");\n",
    "end"
   ]
  },
  {
   "cell_type": "markdown",
   "metadata": {},
   "source": [
    "# 2017"
   ]
  },
  {
   "cell_type": "code",
   "execution_count": 3,
   "metadata": {
    "collapsed": false
   },
   "outputs": [
    {
     "name": "stdout",
     "output_type": "stream",
     "text": [
      "Solving original problem...\n",
      "Optimal!\n",
      "Objective value: 38527.50\n",
      "Transpotation:\n",
      "\tILN\tBLG\tJPN\tCHN\tMEX\tPER\tSINK\n",
      "MDP\t0.00\t0.81\t9.00\t8.19\t0.00\t0.00\t0.00\n",
      "PAB\t8.48\t0.00\t0.00\t1.47\t3.22\t4.83\t0.00\n",
      "LAF-MDP\t0.00\t0.00\t0.00\t0.00\t0.00\t0.00\t16.00\n",
      "LAF-PAB\t1.18\t0.00\t0.00\t0.00\t0.00\t0.00\t14.82\n"
     ]
    }
   ],
   "source": [
    "ORIG = [\"MDP\", \"PAB\", \"LAF-MDP\", \"LAF-PAB\"];\n",
    "DEST = [\"ILN\", \"BLG\", \"JPN\", \"CHN\", \"MEX\", \"PER\", \"SINK\"];\n",
    "\n",
    "supply = [18 18 16 16];\n",
    "US=16\n",
    "demand = [9.66 0.81 9 9.66 3.22 4.83 0]\n",
    "\n",
    "\n",
    "#@assert sum(supply) == sum(demand);\n",
    "la = 750\n",
    "lb = 650\n",
    "cost = [\n",
    "720         1330      1550      1450      450      220   0;\n",
    "670         1350      1550      1450      400      200   0;\n",
    "720+la   1330+la   1550+la   1450+la   450+la   220+la   0;\n",
    "670+lb   1350+lb   1550+lb   1450+lb   400+lb   200+lb   0;\n",
    "]\n",
    "\n",
    "m = Model();\n",
    "\n",
    "@variable(m, Trans[i=1:length(ORIG), j=1:length(DEST)] >= 0);\n",
    "\n",
    "\n",
    "@objective(m, Min, sum{cost[i,j] * Trans[i,j], i=1:length(ORIG), j=1:length(DEST)});\n",
    "\n",
    "@constraint(m, xyconstr[i=1:1:length(ORIG)], sum{Trans[i,j], j=1:length(DEST)} == supply[i]);\n",
    "\n",
    "@constraint(m, xyconstr[j = 1:length(DEST)], sum{Trans[i,j], i=1:length(ORIG)} >= demand[j]);\n",
    "\n",
    "@constraint(m, xyconstr[j = 1:length(DEST)], sum{Trans[i,j], i=3:(length(ORIG)-1)} <= US);\n",
    "\n",
    "\n",
    "println(\"Solving original problem...\")\n",
    "status = solve(m);\n",
    "\n",
    "if status == :Optimal\n",
    "    @printf(\"Optimal!\\n\");\n",
    "    @printf(\"Objective value: %.2f\\n\", getobjectivevalue(m));\n",
    "    @printf(\"Transpotation:\\n\");\n",
    "    for j = 1:length(DEST)\n",
    "        @printf(\"\\t%s\", DEST[j]);\n",
    "    end\n",
    "    @printf(\"\\n\");\n",
    "    for i = 1:length(ORIG)\n",
    "        @printf(\"%s\", ORIG[i]);\n",
    "        for j = 1:length(DEST)\n",
    "            @printf(\"\\t%.2f\", getvalue(Trans[i,j]));\n",
    "        end\n",
    "        @printf(\"\\n\");\n",
    "    end\n",
    "else\n",
    "    @printf(\"No solution\\n\");\n",
    "end"
   ]
  },
  {
   "cell_type": "markdown",
   "metadata": {},
   "source": [
    "# 2018"
   ]
  },
  {
   "cell_type": "code",
   "execution_count": 4,
   "metadata": {
    "collapsed": false
   },
   "outputs": [
    {
     "name": "stdout",
     "output_type": "stream",
     "text": [
      "Solving original problem...\n",
      "Optimal!\n",
      "Objective value: 56694.80\n",
      "Transpotation:\n",
      "\tILN\tBLG\tJPN\tCHN\tMEX\tPER\tSINK\n",
      "MDP\t0.00\t0.99\t7.23\t3.78\t0.00\t0.00\t0.00\n",
      "PAB\t0.00\t0.00\t0.00\t8.10\t3.96\t5.94\t0.00\n",
      "LAF-MDP\t0.00\t0.00\t0.00\t0.00\t0.00\t0.00\t21.00\n",
      "LAF-PAB\t11.88\t0.00\t3.86\t0.00\t0.00\t0.00\t5.26\n"
     ]
    }
   ],
   "source": [
    "ORIG = [\"MDP\", \"PAB\", \"LAF-MDP\", \"LAF-PAB\"];\n",
    "DEST = [\"ILN\", \"BLG\", \"JPN\", \"CHN\", \"MEX\", \"PER\", \"SINK\"];\n",
    "\n",
    "supply = [12 18 21 21];\n",
    "US=21\n",
    "demand = [11.88 0.99 11.09 11.88 3.96 5.94 0]\n",
    "\n",
    "\n",
    "#@assert sum(supply) == sum(demand);\n",
    "la = 750\n",
    "lb = 650\n",
    "cost = [\n",
    "720         1330      1550      1450      450      220   0;\n",
    "670         1350      1550      1450      400      200   0;\n",
    "720+la   1330+la   1550+la   1450+la   450+la   220+la   0;\n",
    "670+lb   1350+lb   1550+lb   1450+lb   400+lb   200+lb   0;\n",
    "]\n",
    "\n",
    "m = Model();\n",
    "\n",
    "@variable(m, Trans[i=1:length(ORIG), j=1:length(DEST)] >= 0);\n",
    "\n",
    "\n",
    "@objective(m, Min, sum{cost[i,j] * Trans[i,j], i=1:length(ORIG), j=1:length(DEST)});\n",
    "\n",
    "@constraint(m, xyconstr[i=1:1:length(ORIG)], sum{Trans[i,j], j=1:length(DEST)} == supply[i]);\n",
    "\n",
    "@constraint(m, xyconstr[j = 1:length(DEST)], sum{Trans[i,j], i=1:length(ORIG)} >= demand[j]);\n",
    "\n",
    "@constraint(m, xyconstr[j = 1:length(DEST)], sum{Trans[i,j], i=3:(length(ORIG)-1)} <= US);\n",
    "\n",
    "\n",
    "println(\"Solving original problem...\")\n",
    "status = solve(m);\n",
    "\n",
    "if status == :Optimal\n",
    "    @printf(\"Optimal!\\n\");\n",
    "    @printf(\"Objective value: %.2f\\n\", getobjectivevalue(m));\n",
    "    @printf(\"Transpotation:\\n\");\n",
    "    for j = 1:length(DEST)\n",
    "        @printf(\"\\t%s\", DEST[j]);\n",
    "    end\n",
    "    @printf(\"\\n\");\n",
    "    for i = 1:length(ORIG)\n",
    "        @printf(\"%s\", ORIG[i]);\n",
    "        for j = 1:length(DEST)\n",
    "            @printf(\"\\t%.2f\", getvalue(Trans[i,j]));\n",
    "        end\n",
    "        @printf(\"\\n\");\n",
    "    end\n",
    "else\n",
    "    @printf(\"No solution\\n\");\n",
    "end"
   ]
  },
  {
   "cell_type": "markdown",
   "metadata": {},
   "source": [
    "# 2019"
   ]
  },
  {
   "cell_type": "code",
   "execution_count": 5,
   "metadata": {
    "collapsed": false
   },
   "outputs": [
    {
     "name": "stdout",
     "output_type": "stream",
     "text": [
      "Solving original problem...\n",
      "Optimal!\n",
      "Objective value: 54105.40\n",
      "Transpotation:\n",
      "\tILN\tBLG\tJPN\tCHN\tMEX\tPER\tSINK\n",
      "MDP\t0.00\t1.04\t11.64\t7.32\t0.00\t0.00\t0.00\n",
      "PAB\t4.45\t0.00\t0.00\t5.15\t4.16\t6.24\t0.00\n",
      "LAF-MDP\t0.00\t0.00\t0.00\t0.00\t0.00\t0.00\t22.00\n",
      "LAF-PAB\t8.11\t0.00\t0.00\t0.00\t0.00\t0.00\t13.89\n"
     ]
    }
   ],
   "source": [
    "ORIG = [\"MDP\", \"PAB\", \"LAF-MDP\", \"LAF-PAB\"];\n",
    "DEST = [\"ILN\", \"BLG\", \"JPN\", \"CHN\", \"MEX\", \"PER\", \"SINK\"];\n",
    "\n",
    "supply = [20 20 22 22];\n",
    "US=22\n",
    "demand = [12.56 1.04 11.64 12.47 4.16 6.24 0]\n",
    "\n",
    "\n",
    "#@assert sum(supply) == sum(demand);\n",
    "la = 750\n",
    "lb = 650\n",
    "cost = [\n",
    "720         1330      1550      1450      450      220   0;\n",
    "670         1350      1550      1450      400      200   0;\n",
    "720+la   1330+la   1550+la   1450+la   450+la   220+la   0;\n",
    "670+lb   1350+lb   1550+lb   1450+lb   400+lb   200+lb   0;\n",
    "]\n",
    "\n",
    "m = Model();\n",
    "\n",
    "@variable(m, Trans[i=1:length(ORIG), j=1:length(DEST)] >= 0);\n",
    "\n",
    "\n",
    "@objective(m, Min, sum{cost[i,j] * Trans[i,j], i=1:length(ORIG), j=1:length(DEST)});\n",
    "\n",
    "@constraint(m, xyconstr[i=1:1:length(ORIG)], sum{Trans[i,j], j=1:length(DEST)} == supply[i]);\n",
    "\n",
    "@constraint(m, xyconstr[j = 1:length(DEST)], sum{Trans[i,j], i=1:length(ORIG)} >= demand[j]);\n",
    "\n",
    "@constraint(m, xyconstr[j = 1:length(DEST)], sum{Trans[i,j], i=3:(length(ORIG)-1)} <= US);\n",
    "\n",
    "\n",
    "println(\"Solving original problem...\")\n",
    "status = solve(m);\n",
    "\n",
    "if status == :Optimal\n",
    "    @printf(\"Optimal!\\n\");\n",
    "    @printf(\"Objective value: %.2f\\n\", getobjectivevalue(m));\n",
    "    @printf(\"Transpotation:\\n\");\n",
    "    for j = 1:length(DEST)\n",
    "        @printf(\"\\t%s\", DEST[j]);\n",
    "    end\n",
    "    @printf(\"\\n\");\n",
    "    for i = 1:length(ORIG)\n",
    "        @printf(\"%s\", ORIG[i]);\n",
    "        for j = 1:length(DEST)\n",
    "            @printf(\"\\t%.2f\", getvalue(Trans[i,j]));\n",
    "        end\n",
    "        @printf(\"\\n\");\n",
    "    end\n",
    "else\n",
    "    @printf(\"No solution\\n\");\n",
    "end"
   ]
  },
  {
   "cell_type": "markdown",
   "metadata": {},
   "source": [
    "# 2020"
   ]
  },
  {
   "cell_type": "code",
   "execution_count": 6,
   "metadata": {
    "collapsed": false
   },
   "outputs": [
    {
     "name": "stdout",
     "output_type": "stream",
     "text": [
      "Solving original problem...\n",
      "Optimal!\n",
      "Objective value: 61275.00\n",
      "Transpotation:\n",
      "\tILN\tBLG\tJPN\tCHN\tMEX\tPER\tSINK\n",
      "MDP\t0.00\t1.17\t7.09\t12.74\t0.00\t0.00\t0.00\n",
      "PAB\t11.04\t0.00\t0.00\t1.28\t4.67\t7.01\t0.00\n",
      "LAF-MDP\t0.00\t0.00\t6.00\t0.00\t0.00\t0.00\t22.00\n",
      "LAF-PAB\t2.98\t0.00\t0.00\t0.00\t0.00\t0.00\t25.02\n"
     ]
    }
   ],
   "source": [
    "ORIG = [\"MDP\", \"PAB\", \"LAF-MDP\", \"LAF-PAB\"];\n",
    "DEST = [\"ILN\", \"BLG\", \"JPN\", \"CHN\", \"MEX\", \"PER\", \"SINK\"];\n",
    "\n",
    "supply = [21 24 28 28];\n",
    "US=22\n",
    "demand = [14.02 1.17 13.09 14.02 4.67 7.01 0]\n",
    "\n",
    "#@assert sum(supply) == sum(demand);\n",
    "la = 750\n",
    "lb = 650\n",
    "cost = [\n",
    "720         1330      1550      1450      450      220   0;\n",
    "670         1350      1550      1450      400      200   0;\n",
    "720+la   1330+la   1550+la   1450+la   450+la   220+la   0;\n",
    "670+lb   1350+lb   1550+lb   1450+lb   400+lb   200+lb   0;\n",
    "]\n",
    "\n",
    "m = Model();\n",
    "\n",
    "@variable(m, Trans[i=1:length(ORIG), j=1:length(DEST)] >= 0);\n",
    "\n",
    "\n",
    "@objective(m, Min, sum{cost[i,j] * Trans[i,j], i=1:length(ORIG), j=1:length(DEST)});\n",
    "\n",
    "@constraint(m, xyconstr[i=1:1:length(ORIG)], sum{Trans[i,j], j=1:length(DEST)} == supply[i]);\n",
    "\n",
    "@constraint(m, xyconstr[j = 1:length(DEST)], sum{Trans[i,j], i=1:length(ORIG)} >= demand[j]);\n",
    "\n",
    "@constraint(m, xyconstr[j = 1:length(DEST)], sum{Trans[i,j], i=3:(length(ORIG)-1)} <= US);\n",
    "\n",
    "\n",
    "println(\"Solving original problem...\")\n",
    "status = solve(m);\n",
    "\n",
    "if status == :Optimal\n",
    "    @printf(\"Optimal!\\n\");\n",
    "    @printf(\"Objective value: %.2f\\n\", getobjectivevalue(m));\n",
    "    @printf(\"Transpotation:\\n\");\n",
    "    for j = 1:length(DEST)\n",
    "        @printf(\"\\t%s\", DEST[j]);\n",
    "    end\n",
    "    @printf(\"\\n\");\n",
    "    for i = 1:length(ORIG)\n",
    "        @printf(\"%s\", ORIG[i]);\n",
    "        for j = 1:length(DEST)\n",
    "            @printf(\"\\t%.2f\", getvalue(Trans[i,j]));\n",
    "        end\n",
    "        @printf(\"\\n\");\n",
    "    end\n",
    "else\n",
    "    @printf(\"No solution\\n\");\n",
    "end"
   ]
  },
  {
   "cell_type": "code",
   "execution_count": null,
   "metadata": {
    "collapsed": true
   },
   "outputs": [],
   "source": []
  }
 ],
 "metadata": {
  "kernelspec": {
   "display_name": "Julia 0.4.7",
   "language": "julia",
   "name": "julia-0.4"
  },
  "language_info": {
   "file_extension": ".jl",
   "mimetype": "application/julia",
   "name": "julia",
   "version": "0.4.7"
  }
 },
 "nbformat": 4,
 "nbformat_minor": 0
}
