{
 "cells": [
  {
   "cell_type": "markdown",
   "metadata": {},
   "source": [
    "# Minimize the cost of shipment, given that Brazil can not manufacture. "
   ]
  },
  {
   "cell_type": "code",
   "execution_count": 1,
   "metadata": {
    "collapsed": true
   },
   "outputs": [],
   "source": [
    "using JuMP"
   ]
  },
  {
   "cell_type": "markdown",
   "metadata": {},
   "source": [
    "# 2016"
   ]
  },
  {
   "cell_type": "code",
   "execution_count": 51,
   "metadata": {
    "collapsed": false
   },
   "outputs": [
    {
     "name": "stdout",
     "output_type": "stream",
     "text": [
      "Solving original problem...\n",
      "Optimal!\n",
      "Objective value: 31958.00\n",
      "Transpotation:\n",
      "\tILN\tBLG\tJPN\tCHN\tMEX\tPER\tSINK\n",
      "LAF\t8.86\t0.74\t0.00\t0.00\t2.96\t3.44\t0.00\n",
      "MDP\t0.00\t0.00\t8.26\t7.74\t0.00\t0.00\t0.00\n",
      "PAB-LAF\t0.00\t0.00\t0.00\t0.00\t0.00\t0.00\t2.10\n",
      "PAB-MDP\t0.00\t0.00\t0.00\t1.12\t0.00\t0.98\t0.00\n"
     ]
    }
   ],
   "source": [
    "ORIG = [\"LAF\", \"MDP\", \"PAB-LAF\", \"PAB-MDP\"];\n",
    "DEST = [\"ILN\", \"BLG\", \"JPN\", \"CHN\", \"MEX\", \"PER\", \"SINK\"];\n",
    "\n",
    "s1 = [16 16]\n",
    "demand = [8.86 0.74 8.26 8.86 2.96 4.42 0]\n",
    "BR = sum(d1)-sum(s1)\n",
    "supply = [s1 BR BR];\n",
    "\n",
    "\n",
    "#@assert sum(supply) == sum(demand);\n",
    "bl = 700\n",
    "ba=150\n",
    "cost = [\n",
    "120         1250      2580      2300      450      720   0;\n",
    "720         1330      1550      1450      450      220   0;\n",
    "670+bl   1350+bl   1550+bl   1450+bl   400+bl   200+bl   0;\n",
    "670+ba   1350+ba   1550+ba   1450+ba   400+ba   200+ba   0\n",
    "]\n",
    "\n",
    "m = Model();\n",
    "\n",
    "@variable(m, Trans[i=1:length(ORIG), j=1:length(DEST)] >= 0);\n",
    "\n",
    "\n",
    "@objective(m, Min, sum{cost[i,j] * Trans[i,j], i=1:length(ORIG), j=1:length(DEST)});\n",
    "\n",
    "@constraint(m, xyconstr[i=1:1:length(ORIG)], sum{Trans[i,j], j=1:length(DEST)} == supply[i]);\n",
    "\n",
    "@constraint(m, xyconstr[j = 1:length(DEST)], sum{Trans[i,j], i=1:length(ORIG)} >= demand[j]);\n",
    "\n",
    "\n",
    "println(\"Solving original problem...\")\n",
    "status = solve(m);\n",
    "\n",
    "if status == :Optimal\n",
    "    @printf(\"Optimal!\\n\");\n",
    "    @printf(\"Objective value: %.2f\\n\", getobjectivevalue(m));\n",
    "    @printf(\"Transpotation:\\n\");\n",
    "    for j = 1:length(DEST)\n",
    "        @printf(\"\\t%s\", DEST[j]);\n",
    "    end\n",
    "    @printf(\"\\n\");\n",
    "    for i = 1:length(ORIG)\n",
    "        @printf(\"%s\", ORIG[i]);\n",
    "        for j = 1:length(DEST)\n",
    "            @printf(\"\\t%.2f\", getvalue(Trans[i,j]));\n",
    "        end\n",
    "        @printf(\"\\n\");\n",
    "    end\n",
    "else\n",
    "    @printf(\"No solution\\n\");\n",
    "end"
   ]
  },
  {
   "cell_type": "markdown",
   "metadata": {},
   "source": [
    "# 2017"
   ]
  },
  {
   "cell_type": "code",
   "execution_count": 65,
   "metadata": {
    "collapsed": false
   },
   "outputs": [
    {
     "name": "stdout",
     "output_type": "stream",
     "text": [
      "Solving original problem...\n",
      "Optimal!\n",
      "Objective value: 33367.20\n",
      "Transpotation:\n",
      "\tILN\tBLG\tJPN\tCHN\tMEX\tPER\tSINK\n",
      "LAF\t9.66\t0.81\t0.00\t0.00\t3.22\t0.00\t2.31\n",
      "MDP\t0.00\t0.00\t9.00\t9.00\t0.00\t0.00\t0.00\n",
      "PAB-LAF\t0.00\t0.00\t0.00\t0.00\t0.00\t0.00\t18.00\n",
      "PAB-MDP\t0.00\t0.00\t0.00\t0.66\t0.00\t4.83\t12.51\n"
     ]
    }
   ],
   "source": [
    "ORIG = [\"LAF\", \"MDP\", \"PAB-LAF\", \"PAB-MDP\"];\n",
    "DEST = [\"ILN\", \"BLG\", \"JPN\", \"CHN\", \"MEX\", \"PER\", \"SINK\"];\n",
    "\n",
    "s1 = [16 18]\n",
    "demand = [9.66 0.81 9 9.66 3.22 4.83 0]\n",
    "BR = 18 \n",
    "supply = [s1 BR BR];\n",
    "\n",
    "#@assert sum(supply) == sum(demand);\n",
    "bl = 700\n",
    "ba=150\n",
    "cost = [\n",
    "120         1250      2580      2300      450      720   0;\n",
    "720         1330      1550      1450      450      220   0;\n",
    "670+bl   1350+bl   1550+bl   1450+bl   400+bl   200+bl   0;\n",
    "670+ba   1350+ba   1550+ba   1450+ba   400+ba   200+ba   0\n",
    "]\n",
    "\n",
    "m = Model();\n",
    "\n",
    "@variable(m, Trans[i=1:length(ORIG), j=1:length(DEST)] >= 0);\n",
    "\n",
    "\n",
    "@objective(m, Min, sum{cost[i,j] * Trans[i,j], i=1:length(ORIG), j=1:length(DEST)});\n",
    "\n",
    "@constraint(m, xyconstr[i=1:1:length(ORIG)], sum{Trans[i,j], j=1:length(DEST)} == supply[i]);\n",
    "\n",
    "@constraint(m, xyconstr[j = 1:length(DEST)], sum{Trans[i,j], i=1:length(ORIG)} >= demand[j]);\n",
    "\n",
    "\n",
    "println(\"Solving original problem...\")\n",
    "status = solve(m);\n",
    "\n",
    "if status == :Optimal\n",
    "    @printf(\"Optimal!\\n\");\n",
    "    @printf(\"Objective value: %.2f\\n\", getobjectivevalue(m));\n",
    "    @printf(\"Transpotation:\\n\");\n",
    "    for j = 1:length(DEST)\n",
    "        @printf(\"\\t%s\", DEST[j]);\n",
    "    end\n",
    "    @printf(\"\\n\");\n",
    "    for i = 1:length(ORIG)\n",
    "        @printf(\"%s\", ORIG[i]);\n",
    "        for j = 1:length(DEST)\n",
    "            @printf(\"\\t%.2f\", getvalue(Trans[i,j]));\n",
    "        end\n",
    "        @printf(\"\\n\");\n",
    "    end\n",
    "else\n",
    "    @printf(\"No solution\\n\");\n",
    "end"
   ]
  },
  {
   "cell_type": "markdown",
   "metadata": {},
   "source": [
    "# 2018"
   ]
  },
  {
   "cell_type": "code",
   "execution_count": 64,
   "metadata": {
    "collapsed": false
   },
   "outputs": [
    {
     "name": "stdout",
     "output_type": "stream",
     "text": [
      "Solving original problem...\n",
      "Optimal!\n",
      "Objective value: 41685.10\n",
      "Transpotation:\n",
      "\tILN\tBLG\tJPN\tCHN\tMEX\tPER\tSINK\n",
      "LAF\t11.88\t0.99\t0.00\t0.00\t3.96\t0.00\t4.17\n",
      "MDP\t0.00\t0.00\t11.09\t6.91\t0.00\t0.00\t0.00\n",
      "PAB-LAF\t0.00\t0.00\t0.00\t0.00\t0.00\t0.00\t12.00\n",
      "PAB-MDP\t0.00\t0.00\t0.00\t4.97\t0.00\t5.94\t1.09\n"
     ]
    }
   ],
   "source": [
    "ORIG = [\"LAF\", \"MDP\", \"PAB-LAF\", \"PAB-MDP\"];\n",
    "DEST = [\"ILN\", \"BLG\", \"JPN\", \"CHN\", \"MEX\", \"PER\", \"SINK\"];\n",
    "\n",
    "supply = [21 18 12 12];\n",
    "BR=12\n",
    "demand = [11.88 0.99 11.09 11.88 3.96 5.94 0]\n",
    "\n",
    "\n",
    "\n",
    "#@assert sum(supply) == sum(demand);\n",
    "bl = 700\n",
    "ba=150\n",
    "cost = [\n",
    "120         1250      2580      2300      450      720   0;\n",
    "720         1330      1550      1450      450      220   0;\n",
    "670+bl   1350+bl   1550+bl   1450+bl   400+bl   200+bl   0;\n",
    "670+ba   1350+ba   1550+ba   1450+ba   400+ba   200+ba   0\n",
    "]\n",
    "\n",
    "m = Model();\n",
    "\n",
    "@variable(m, Trans[i=1:length(ORIG), j=1:length(DEST)] >= 0);\n",
    "\n",
    "\n",
    "@objective(m, Min, sum{cost[i,j] * Trans[i,j], i=1:length(ORIG), j=1:length(DEST)});\n",
    "\n",
    "@constraint(m, xyconstr[i=1:1:length(ORIG)], sum{Trans[i,j], j=1:length(DEST)} == supply[i]);\n",
    "\n",
    "@constraint(m, xyconstr[j = 1:length(DEST)], sum{Trans[i,j], i=1:length(ORIG)} >= demand[j]);\n",
    "\n",
    "@constraint(m, xyconstr[j = 1:length(DEST)], sum{Trans[i,j], i=3:(length(ORIG)-1)} <= BR);\n",
    "\n",
    "\n",
    "println(\"Solving original problem...\")\n",
    "status = solve(m);\n",
    "\n",
    "if status == :Optimal\n",
    "    @printf(\"Optimal!\\n\");\n",
    "    @printf(\"Objective value: %.2f\\n\", getobjectivevalue(m));\n",
    "    @printf(\"Transpotation:\\n\");\n",
    "    for j = 1:length(DEST)\n",
    "        @printf(\"\\t%s\", DEST[j]);\n",
    "    end\n",
    "    @printf(\"\\n\");\n",
    "    for i = 1:length(ORIG)\n",
    "        @printf(\"%s\", ORIG[i]);\n",
    "        for j = 1:length(DEST)\n",
    "            @printf(\"\\t%.2f\", getvalue(Trans[i,j]));\n",
    "        end\n",
    "        @printf(\"\\n\");\n",
    "    end\n",
    "else\n",
    "    @printf(\"No solution\\n\");\n",
    "end"
   ]
  },
  {
   "cell_type": "markdown",
   "metadata": {},
   "source": [
    "# 2019"
   ]
  },
  {
   "cell_type": "code",
   "execution_count": 63,
   "metadata": {
    "collapsed": false
   },
   "outputs": [
    {
     "name": "stdout",
     "output_type": "stream",
     "text": [
      "Solving original problem...\n",
      "Optimal!\n",
      "Objective value: 43603.20\n",
      "Transpotation:\n",
      "\tILN\tBLG\tJPN\tCHN\tMEX\tPER\tSINK\n",
      "LAF\t12.56\t1.04\t0.00\t0.00\t4.16\t0.00\t4.24\n",
      "MDP\t0.00\t0.00\t11.64\t8.36\t0.00\t0.00\t0.00\n",
      "PAB-LAF\t0.00\t0.00\t0.00\t0.00\t0.00\t0.00\t20.00\n",
      "PAB-MDP\t0.00\t0.00\t0.00\t4.11\t0.00\t6.24\t9.65\n"
     ]
    }
   ],
   "source": [
    "ORIG = [\"LAF\", \"MDP\", \"PAB-LAF\", \"PAB-MDP\"];\n",
    "DEST = [\"ILN\", \"BLG\", \"JPN\", \"CHN\", \"MEX\", \"PER\", \"SINK\"];\n",
    "\n",
    "supply = [22 20 20 20];\n",
    "BR=20\n",
    "demand = [12.56 1.04 11.64 12.47 4.16 6.24 0]\n",
    "\n",
    "\n",
    "\n",
    "#@assert sum(supply) == sum(demand);\n",
    "bl = 700\n",
    "ba=150\n",
    "cost = [\n",
    "120         1250      2580      2300      450      720   0;\n",
    "720         1330      1550      1450      450      220   0;\n",
    "670+bl   1350+bl   1550+bl   1450+bl   400+bl   200+bl   0;\n",
    "670+ba   1350+ba   1550+ba   1450+ba   400+ba   200+ba   0\n",
    "]\n",
    "\n",
    "m = Model();\n",
    "\n",
    "@variable(m, Trans[i=1:length(ORIG), j=1:length(DEST)] >= 0);\n",
    "\n",
    "\n",
    "@objective(m, Min, sum{cost[i,j] * Trans[i,j], i=1:length(ORIG), j=1:length(DEST)});\n",
    "\n",
    "@constraint(m, xyconstr[i=1:1:length(ORIG)], sum{Trans[i,j], j=1:length(DEST)} == supply[i]);\n",
    "\n",
    "@constraint(m, xyconstr[j = 1:length(DEST)], sum{Trans[i,j], i=1:length(ORIG)} >= demand[j]);\n",
    "\n",
    "@constraint(m, xyconstr[j = 1:length(DEST)], sum{Trans[i,j], i=3:(length(ORIG)-1)} <= BR);\n",
    "\n",
    "\n",
    "println(\"Solving original problem...\")\n",
    "status = solve(m);\n",
    "\n",
    "if status == :Optimal\n",
    "    @printf(\"Optimal!\\n\");\n",
    "    @printf(\"Objective value: %.2f\\n\", getobjectivevalue(m));\n",
    "    @printf(\"Transpotation:\\n\");\n",
    "    for j = 1:length(DEST)\n",
    "        @printf(\"\\t%s\", DEST[j]);\n",
    "    end\n",
    "    @printf(\"\\n\");\n",
    "    for i = 1:length(ORIG)\n",
    "        @printf(\"%s\", ORIG[i]);\n",
    "        for j = 1:length(DEST)\n",
    "            @printf(\"\\t%.2f\", getvalue(Trans[i,j]));\n",
    "        end\n",
    "        @printf(\"\\n\");\n",
    "    end\n",
    "else\n",
    "    @printf(\"No solution\\n\");\n",
    "end"
   ]
  },
  {
   "cell_type": "markdown",
   "metadata": {},
   "source": [
    "# 2020"
   ]
  },
  {
   "cell_type": "code",
   "execution_count": 62,
   "metadata": {
    "collapsed": false
   },
   "outputs": [
    {
     "name": "stdout",
     "output_type": "stream",
     "text": [
      "Solving original problem...\n",
      "Optimal!\n",
      "Objective value: 48784.90\n",
      "Transpotation:\n",
      "\tILN\tBLG\tJPN\tCHN\tMEX\tPER\tSINK\n",
      "LAF\t14.02\t1.17\t0.00\t0.00\t4.67\t0.00\t8.14\n",
      "MDP\t0.00\t0.00\t13.09\t10.91\t0.00\t0.00\t0.00\n",
      "PAB-LAF\t0.00\t0.00\t0.00\t0.00\t0.00\t0.00\t21.00\n",
      "PAB-MDP\t0.00\t0.00\t0.00\t3.11\t0.00\t7.01\t10.88\n"
     ]
    }
   ],
   "source": [
    "ORIG = [\"LAF\", \"MDP\", \"PAB-LAF\", \"PAB-MDP\"];\n",
    "DEST = [\"ILN\", \"BLG\", \"JPN\", \"CHN\", \"MEX\", \"PER\", \"SINK\"];\n",
    "\n",
    "supply = [28 24 21 21];\n",
    "BR=21\n",
    "demand = [14.02 1.17 13.09 14.02 4.67 7.01 0]\n",
    "\n",
    "\n",
    "\n",
    "#@assert sum(supply) == sum(demand);\n",
    "bl = 700\n",
    "ba=150\n",
    "cost = [\n",
    "120         1250      2580      2300      450      720   0;\n",
    "720         1330      1550      1450      450      220   0;\n",
    "670+bl   1350+bl   1550+bl   1450+bl   400+bl   200+bl   0;\n",
    "670+ba   1350+ba   1550+ba   1450+ba   400+ba   200+ba   0\n",
    "]\n",
    "\n",
    "m = Model();\n",
    "\n",
    "@variable(m, Trans[i=1:length(ORIG), j=1:length(DEST)] >= 0);\n",
    "\n",
    "\n",
    "@objective(m, Min, sum{cost[i,j] * Trans[i,j], i=1:length(ORIG), j=1:length(DEST)});\n",
    "\n",
    "@constraint(m, xyconstr[i=1:1:length(ORIG)], sum{Trans[i,j], j=1:length(DEST)} == supply[i]);\n",
    "\n",
    "@constraint(m, xyconstr[j = 1:length(DEST)], sum{Trans[i,j], i=1:length(ORIG)} >= demand[j]);\n",
    "\n",
    "@constraint(m, xyconstr[j = 1:length(DEST)], sum{Trans[i,j], i=3:(length(ORIG)-1)} <= BR);\n",
    "\n",
    "\n",
    "println(\"Solving original problem...\")\n",
    "status = solve(m);\n",
    "\n",
    "if status == :Optimal\n",
    "    @printf(\"Optimal!\\n\");\n",
    "    @printf(\"Objective value: %.2f\\n\", getobjectivevalue(m));\n",
    "    @printf(\"Transpotation:\\n\");\n",
    "    for j = 1:length(DEST)\n",
    "        @printf(\"\\t%s\", DEST[j]);\n",
    "    end\n",
    "    @printf(\"\\n\");\n",
    "    for i = 1:length(ORIG)\n",
    "        @printf(\"%s\", ORIG[i]);\n",
    "        for j = 1:length(DEST)\n",
    "            @printf(\"\\t%.2f\", getvalue(Trans[i,j]));\n",
    "        end\n",
    "        @printf(\"\\n\");\n",
    "    end\n",
    "else\n",
    "    @printf(\"No solution\\n\");\n",
    "end"
   ]
  },
  {
   "cell_type": "code",
   "execution_count": null,
   "metadata": {
    "collapsed": true
   },
   "outputs": [],
   "source": []
  }
 ],
 "metadata": {
  "kernelspec": {
   "display_name": "Julia 0.4.7",
   "language": "julia",
   "name": "julia-0.4"
  },
  "language_info": {
   "file_extension": ".jl",
   "mimetype": "application/julia",
   "name": "julia",
   "version": "0.4.7"
  }
 },
 "nbformat": 4,
 "nbformat_minor": 0
}
