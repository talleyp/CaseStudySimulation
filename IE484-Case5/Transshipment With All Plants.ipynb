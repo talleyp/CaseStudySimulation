{
 "cells": [
  {
   "cell_type": "markdown",
   "metadata": {},
   "source": [
    "# Allow manufacturing anywhere."
   ]
  },
  {
   "cell_type": "code",
   "execution_count": 2,
   "metadata": {
    "collapsed": false
   },
   "outputs": [
    {
     "name": "stderr",
     "output_type": "stream",
     "text": [
      "INFO: Precompiling module JuMP.\n",
      "INFO: Precompiling module Clp.\n"
     ]
    }
   ],
   "source": [
    "using JuMP\n",
    "using Clp"
   ]
  },
  {
   "cell_type": "markdown",
   "metadata": {},
   "source": [
    "# 2016 - All Manufacturing"
   ]
  },
  {
   "cell_type": "code",
   "execution_count": 16,
   "metadata": {
    "collapsed": false
   },
   "outputs": [
    {
     "name": "stdout",
     "output_type": "stream",
     "text": [
      "Solving original problem...\n",
      "Optimal!\n",
      "Objective value: 29706.20\n",
      "Transpotation:\n",
      "\tLAF\tMDP\tPAB\tILN\tBLG\tJPN\tCHN\tMEX\tPER\tSINK\n",
      "LAF\t0.00\t0.00\t0.00\t8.86\t0.74\t0.00\t0.00\t0.00\t0.00\t6.40\n",
      "MDP\t0.00\t0.00\t0.00\t0.00\t0.00\t8.26\t7.74\t0.00\t0.00\t0.00\n",
      "PAB\t0.00\t0.00\t0.00\t0.00\t0.00\t0.00\t1.12\t2.96\t4.42\t6.50\n"
     ]
    }
   ],
   "source": [
    "ORIG = [\"LAF\", \"MDP\", \"PAB\"];\n",
    "DEST = [\"LAF\", \"MDP\", \"PAB\", \"ILN\", \"BLG\", \"JPN\", \"CHN\", \"MEX\", \"PER\", \"SINK\"];\n",
    "\n",
    "supply = [16 16 15];\n",
    "sinkD = sum(supply)- sum([0 0 0 8.86 0.74 8.26 8.86 2.96 4.42])\n",
    "demand = [ 0 0 0 8.86 0.74 8.26 8.86 2.96 4.42 sinkD];\n",
    "\n",
    "@assert sum(supply) == sum(demand);\n",
    "\n",
    "cost = [\n",
    "  0   750  650   120   1250   2580   2300   450   720   0;\n",
    "600     0  120   720   1330   1550   1450   450   220   0;\n",
    "700   150    0   670   1350   1550   1450   400   200   0\n",
    "]\n",
    "\n",
    "m = Model();\n",
    "\n",
    "@variable(m, Trans[i=1:length(ORIG), j=1:length(DEST)] >= 0);\n",
    "\n",
    "\n",
    "@objective(m, Min, sum{cost[i,j] * Trans[i,j], i=1:length(ORIG), j=1:length(DEST)});\n",
    "\n",
    "@constraint(m, xyconstr[i=1:1:length(ORIG)], sum{Trans[i,j], j=1:length(DEST)} == supply[i]);\n",
    "\n",
    "@constraint(m, xyconstr[j = 1:length(DEST)], sum{Trans[i,j], i=1:length(ORIG)} == demand[j]);\n",
    "\n",
    "println(\"Solving original problem...\")\n",
    "status = solve(m);\n",
    "\n",
    "if status == :Optimal\n",
    "    @printf(\"Optimal!\\n\");\n",
    "    @printf(\"Objective value: %.2f\\n\", getobjectivevalue(m));\n",
    "    @printf(\"Transpotation:\\n\");\n",
    "    for j = 1:length(DEST)\n",
    "        @printf(\"\\t%s\", DEST[j]);\n",
    "    end\n",
    "    @printf(\"\\n\");\n",
    "    for i = 1:length(ORIG)\n",
    "        @printf(\"%s\", ORIG[i]);\n",
    "        for j = 1:length(DEST)\n",
    "            @printf(\"\\t%.2f\", getvalue(Trans[i,j]));\n",
    "        end\n",
    "        @printf(\"\\n\");\n",
    "    end\n",
    "else\n",
    "    @printf(\"No solution\\n\");\n",
    "end"
   ]
  },
  {
   "cell_type": "markdown",
   "metadata": {},
   "source": [
    "# 2017 - All Manufacturing"
   ]
  },
  {
   "cell_type": "code",
   "execution_count": 17,
   "metadata": {
    "collapsed": false
   },
   "outputs": [
    {
     "name": "stdout",
     "output_type": "stream",
     "text": [
      "Solving original problem...\n",
      "Optimal!\n",
      "Objective value: 32382.70\n",
      "Transpotation:\n",
      "\tLAF\tMDP\tPAB\tILN\tBLG\tJPN\tCHN\tMEX\tPER\tSINK\n",
      "LAF\t0.00\t0.00\t0.00\t9.66\t0.81\t0.00\t0.00\t0.00\t0.00\t5.53\n",
      "MDP\t0.00\t0.00\t0.00\t0.00\t0.00\t9.00\t9.00\t0.00\t0.00\t0.00\n",
      "PAB\t0.00\t0.00\t0.00\t0.00\t0.00\t0.00\t0.66\t3.22\t4.83\t9.29\n"
     ]
    }
   ],
   "source": [
    "ORIG = [\"LAF\", \"MDP\", \"PAB\"];\n",
    "DEST = [\"LAF\", \"MDP\", \"PAB\", \"ILN\", \"BLG\", \"JPN\", \"CHN\", \"MEX\", \"PER\", \"SINK\"];\n",
    "\n",
    "supply = [16 18 18];\n",
    "sinkD = sum(supply)- sum([ 9.66 0.81 9 9.66 3.22 4.83])\n",
    "demand = [ 0 0 0 9.66 0.81 9 9.66 3.22 4.83 sinkD];\n",
    "\n",
    "@assert sum(supply) == sum(demand);\n",
    "\n",
    "cost = [\n",
    "  0   750  650   120   1250   2580   2300   450   720   0;\n",
    "600     0  120   720   1330   1550   1450   450   220   0;\n",
    "700   150    0   670   1350   1550   1450   400   200   0\n",
    "]\n",
    "\n",
    "m = Model();\n",
    "\n",
    "@variable(m, Trans[i=1:length(ORIG), j=1:length(DEST)] >= 0);\n",
    "\n",
    "\n",
    "@objective(m, Min, sum{cost[i,j] * Trans[i,j], i=1:length(ORIG), j=1:length(DEST)});\n",
    "\n",
    "@constraint(m, xyconstr[i=1:1:length(ORIG)], sum{Trans[i,j], j=1:length(DEST)} == supply[i]);\n",
    "\n",
    "@constraint(m, xyconstr[j = 1:length(DEST)], sum{Trans[i,j], i=1:length(ORIG)} == demand[j]);\n",
    "\n",
    "println(\"Solving original problem...\")\n",
    "status = solve(m);\n",
    "\n",
    "if status == :Optimal\n",
    "    @printf(\"Optimal!\\n\");\n",
    "    @printf(\"Objective value: %.2f\\n\", getobjectivevalue(m));\n",
    "    @printf(\"Transpotation:\\n\");\n",
    "    for j = 1:length(DEST)\n",
    "        @printf(\"\\t%s\", DEST[j]);\n",
    "    end\n",
    "    @printf(\"\\n\");\n",
    "    for i = 1:length(ORIG)\n",
    "        @printf(\"%s\", ORIG[i]);\n",
    "        for j = 1:length(DEST)\n",
    "            @printf(\"\\t%.2f\", getvalue(Trans[i,j]));\n",
    "        end\n",
    "        @printf(\"\\n\");\n",
    "    end\n",
    "else\n",
    "    @printf(\"No solution\\n\");\n",
    "end"
   ]
  },
  {
   "cell_type": "markdown",
   "metadata": {},
   "source": [
    "# 2018 - All manufacturing"
   ]
  },
  {
   "cell_type": "code",
   "execution_count": 18,
   "metadata": {
    "collapsed": false
   },
   "outputs": [
    {
     "name": "stdout",
     "output_type": "stream",
     "text": [
      "Solving original problem...\n",
      "Optimal!\n",
      "Objective value: 39994.10\n",
      "Transpotation:\n",
      "\tLAF\tMDP\tPAB\tILN\tBLG\tJPN\tCHN\tMEX\tPER\tSINK\n",
      "LAF\t0.00\t0.00\t0.00\t11.88\t0.99\t0.00\t0.00\t2.87\t0.00\t5.26\n",
      "MDP\t0.00\t0.00\t0.00\t0.00\t0.00\t6.12\t11.88\t0.00\t0.00\t0.00\n",
      "PAB\t0.00\t0.00\t0.00\t0.00\t0.00\t4.97\t0.00\t1.09\t5.94\t0.00\n"
     ]
    }
   ],
   "source": [
    "ORIG = [\"LAF\", \"MDP\", \"PAB\"];\n",
    "DEST = [\"LAF\", \"MDP\", \"PAB\", \"ILN\", \"BLG\", \"JPN\", \"CHN\", \"MEX\", \"PER\", \"SINK\"];\n",
    "\n",
    "supply = [21 18 12];\n",
    "sinkD = sum(supply)- sum([11.88 0.99 11.09 11.88 3.96 5.94])\n",
    "demand = [ 0 0 0 11.88 0.99 11.09 11.88 3.96 5.94 sinkD];\n",
    "\n",
    "@assert sum(supply) == sum(demand);\n",
    "\n",
    "cost = [\n",
    "  0   750  650   120   1250   2580   2300   450   720   0;\n",
    "600     0  120   720   1330   1550   1450   450   220   0;\n",
    "700   150    0   670   1350   1550   1450   400   200   0\n",
    "]\n",
    "\n",
    "m = Model();\n",
    "\n",
    "@variable(m, Trans[i=1:length(ORIG), j=1:length(DEST)] >= 0);\n",
    "\n",
    "\n",
    "@objective(m, Min, sum{cost[i,j] * Trans[i,j], i=1:length(ORIG), j=1:length(DEST)});\n",
    "\n",
    "@constraint(m, xyconstr[i=1:1:length(ORIG)], sum{Trans[i,j], j=1:length(DEST)} == supply[i]);\n",
    "\n",
    "@constraint(m, xyconstr[j = 1:length(DEST)], sum{Trans[i,j], i=1:length(ORIG)} == demand[j]);\n",
    "\n",
    "println(\"Solving original problem...\")\n",
    "status = solve(m);\n",
    "\n",
    "if status == :Optimal\n",
    "    @printf(\"Optimal!\\n\");\n",
    "    @printf(\"Objective value: %.2f\\n\", getobjectivevalue(m));\n",
    "    @printf(\"Transpotation:\\n\");\n",
    "    for j = 1:length(DEST)\n",
    "        @printf(\"\\t%s\", DEST[j]);\n",
    "    end\n",
    "    @printf(\"\\n\");\n",
    "    for i = 1:length(ORIG)\n",
    "        @printf(\"%s\", ORIG[i]);\n",
    "        for j = 1:length(DEST)\n",
    "            @printf(\"\\t%.2f\", getvalue(Trans[i,j]));\n",
    "        end\n",
    "        @printf(\"\\n\");\n",
    "    end\n",
    "else\n",
    "    @printf(\"No solution\\n\");\n",
    "end"
   ]
  },
  {
   "cell_type": "markdown",
   "metadata": {},
   "source": [
    "# 2019 - All manufacturing"
   ]
  },
  {
   "cell_type": "code",
   "execution_count": 19,
   "metadata": {
    "collapsed": false
   },
   "outputs": [
    {
     "name": "stdout",
     "output_type": "stream",
     "text": [
      "Solving original problem...\n",
      "Optimal!\n",
      "Objective value: 41842.70\n",
      "Transpotation:\n",
      "\tLAF\tMDP\tPAB\tILN\tBLG\tJPN\tCHN\tMEX\tPER\tSINK\n",
      "LAF\t0.00\t0.00\t0.00\t12.56\t1.04\t0.00\t0.00\t0.00\t0.00\t8.40\n",
      "MDP\t0.00\t0.00\t0.00\t0.00\t0.00\t11.64\t8.36\t0.00\t0.00\t0.00\n",
      "PAB\t0.00\t0.00\t0.00\t0.00\t0.00\t0.00\t4.11\t4.16\t6.24\t5.49\n"
     ]
    }
   ],
   "source": [
    "ORIG = [\"LAF\", \"MDP\", \"PAB\"];\n",
    "DEST = [\"LAF\", \"MDP\", \"PAB\", \"ILN\", \"BLG\", \"JPN\", \"CHN\", \"MEX\", \"PER\", \"SINK\"];\n",
    "\n",
    "supply = [22 20 20];\n",
    "sinkD = sum(supply)- sum([ 0 0 0 12.56 1.04 11.64 12.47 4.16 6.24])\n",
    "demand = [ 0 0 0 12.56 1.04 11.64 12.47 4.16 6.24 sinkD];\n",
    "\n",
    "@assert sum(supply) == sum(demand);\n",
    "\n",
    "cost = [\n",
    "  0   750  650   120   1250   2580   2300   450   720   0;\n",
    "600     0  120   720   1330   1550   1450   450   220   0;\n",
    "700   150    0   670   1350   1550   1450   400   200   0\n",
    "]\n",
    "\n",
    "m = Model();\n",
    "\n",
    "@variable(m, Trans[i=1:length(ORIG), j=1:length(DEST)] >= 0);\n",
    "\n",
    "\n",
    "@objective(m, Min, sum{cost[i,j] * Trans[i,j], i=1:length(ORIG), j=1:length(DEST)});\n",
    "\n",
    "@constraint(m, xyconstr[i=1:1:length(ORIG)], sum{Trans[i,j], j=1:length(DEST)} == supply[i]);\n",
    "\n",
    "@constraint(m, xyconstr[j = 1:length(DEST)], sum{Trans[i,j], i=1:length(ORIG)} == demand[j]);\n",
    "\n",
    "println(\"Solving original problem...\")\n",
    "status = solve(m);\n",
    "\n",
    "if status == :Optimal\n",
    "    @printf(\"Optimal!\\n\");\n",
    "    @printf(\"Objective value: %.2f\\n\", getobjectivevalue(m));\n",
    "    @printf(\"Transpotation:\\n\");\n",
    "    for j = 1:length(DEST)\n",
    "        @printf(\"\\t%s\", DEST[j]);\n",
    "    end\n",
    "    @printf(\"\\n\");\n",
    "    for i = 1:length(ORIG)\n",
    "        @printf(\"%s\", ORIG[i]);\n",
    "        for j = 1:length(DEST)\n",
    "            @printf(\"\\t%.2f\", getvalue(Trans[i,j]));\n",
    "        end\n",
    "        @printf(\"\\n\");\n",
    "    end\n",
    "else\n",
    "    @printf(\"No solution\\n\");\n",
    "end"
   ]
  },
  {
   "cell_type": "markdown",
   "metadata": {},
   "source": [
    "# 2020 - All manufacturing"
   ]
  },
  {
   "cell_type": "code",
   "execution_count": 20,
   "metadata": {
    "collapsed": false
   },
   "outputs": [
    {
     "name": "stdout",
     "output_type": "stream",
     "text": [
      "Solving original problem...\n",
      "Optimal!\n",
      "Objective value: 47033.40\n",
      "Transpotation:\n",
      "\tLAF\tMDP\tPAB\tILN\tBLG\tJPN\tCHN\tMEX\tPER\tSINK\n",
      "LAF\t0.00\t0.00\t0.00\t14.02\t1.17\t0.00\t0.00\t0.00\t0.00\t12.81\n",
      "MDP\t0.00\t0.00\t0.00\t0.00\t0.00\t13.09\t10.91\t0.00\t0.00\t0.00\n",
      "PAB\t0.00\t0.00\t0.00\t0.00\t0.00\t0.00\t3.11\t4.67\t7.01\t6.21\n"
     ]
    }
   ],
   "source": [
    "ORIG = [\"LAF\", \"MDP\", \"PAB\"];\n",
    "DEST = [\"LAF\", \"MDP\", \"PAB\", \"ILN\", \"BLG\", \"JPN\", \"CHN\", \"MEX\", \"PER\", \"SINK\"];\n",
    "\n",
    "supply = [28 24 21];\n",
    "sinkD = sum(supply)- sum([ 14.02 1.17 13.09 14.02 4.67 7.01])\n",
    "demand = [ 0 0 0 14.02 1.17 13.09 14.02 4.67 7.01 sinkD];\n",
    "\n",
    "@assert sum(supply) == sum(demand);\n",
    "\n",
    "cost = [\n",
    "  0   750  650   120   1250   2580   2300   450   720   0;\n",
    "600     0  120   720   1330   1550   1450   450   220   0;\n",
    "700   150    0   670   1350   1550   1450   400   200   0\n",
    "]\n",
    "\n",
    "m = Model();\n",
    "\n",
    "@variable(m, Trans[i=1:length(ORIG), j=1:length(DEST)] >= 0);\n",
    "\n",
    "\n",
    "@objective(m, Min, sum{cost[i,j] * Trans[i,j], i=1:length(ORIG), j=1:length(DEST)});\n",
    "\n",
    "@constraint(m, xyconstr[i=1:1:length(ORIG)], sum{Trans[i,j], j=1:length(DEST)} == supply[i]);\n",
    "\n",
    "@constraint(m, xyconstr[j = 1:length(DEST)], sum{Trans[i,j], i=1:length(ORIG)} == demand[j]);\n",
    "\n",
    "println(\"Solving original problem...\")\n",
    "status = solve(m);\n",
    "\n",
    "if status == :Optimal\n",
    "    @printf(\"Optimal!\\n\");\n",
    "    @printf(\"Objective value: %.2f\\n\", getobjectivevalue(m));\n",
    "    @printf(\"Transpotation:\\n\");\n",
    "    for j = 1:length(DEST)\n",
    "        @printf(\"\\t%s\", DEST[j]);\n",
    "    end\n",
    "    @printf(\"\\n\");\n",
    "    for i = 1:length(ORIG)\n",
    "        @printf(\"%s\", ORIG[i]);\n",
    "        for j = 1:length(DEST)\n",
    "            @printf(\"\\t%.2f\", getvalue(Trans[i,j]));\n",
    "        end\n",
    "        @printf(\"\\n\");\n",
    "    end\n",
    "else\n",
    "    @printf(\"No solution\\n\");\n",
    "end"
   ]
  },
  {
   "cell_type": "code",
   "execution_count": null,
   "metadata": {
    "collapsed": true
   },
   "outputs": [],
   "source": []
  }
 ],
 "metadata": {
  "kernelspec": {
   "display_name": "Julia 0.4.7",
   "language": "julia",
   "name": "julia-0.4"
  },
  "language_info": {
   "file_extension": ".jl",
   "mimetype": "application/julia",
   "name": "julia",
   "version": "0.4.7"
  }
 },
 "nbformat": 4,
 "nbformat_minor": 0
}
