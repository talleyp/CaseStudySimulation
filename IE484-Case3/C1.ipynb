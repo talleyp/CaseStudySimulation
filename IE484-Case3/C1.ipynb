{
 "cells": [
  {
   "cell_type": "code",
   "execution_count": 1,
   "metadata": {
    "collapsed": false
   },
   "outputs": [
    {
     "data": {
      "text/plain": [
       "1"
      ]
     },
     "execution_count": 1,
     "metadata": {},
     "output_type": "execute_result"
    }
   ],
   "source": [
    "days = 20*5\n",
    "\n",
    "DemandC1 = [1600 1600 1600 1800 1800 0]\n",
    "\n",
    "Mfactor = 60;\n",
    "C11factor = 4;\n",
    "\n",
    "InvC1 = zeros(days+50,1)\n",
    "InvM = zeros(days+50,1)\n",
    "InvC11 = zeros(days+50,1)\n",
    "\n",
    "InvM[1:end] = 20;\n",
    "InvC11[1:end] = 5;\n",
    "\n",
    "cycleC1 = 1703\n",
    "\n",
    "t=1;\n",
    "demandMonth = 1\n",
    "nOrders=0\n",
    "noOrder = true\n",
    "while t < days\n",
    "    if t >= (demandMonth*20)\n",
    "        InvC1[t:end] -= DemandC1[demandMonth]\n",
    "        demandMonth += 1\n",
    "    end\n",
    "    if InvC1[t] > DemandC1[demandMonth]\n",
    "        keepProduction = false\n",
    "    else\n",
    "        keepProduction = true\n",
    "    end\n",
    "\n",
    "    Mleft = (DemandC1[demandMonth] - InvC1[t]) * Mfactor\n",
    "    C11left = (DemandC1[demandMonth] - InvC1[t]) * C11factor\n",
    "    if ((InvM[t] < Mleft) || (InvC11[t] < C11left)) && noOrder && keepProduction\n",
    "        nOrders+=1\n",
    "        tLast = t\n",
    "        tAdd = round(Int64,2*randn(1)[1] + 5)\n",
    "        if tAdd < 0\n",
    "            t+=0\n",
    "        else\n",
    "            t+=tAdd\n",
    "        end\n",
    "        \n",
    "        InvM[tLast:t] = InvM[tLast]\n",
    "        InvC11[tLast:t] = InvC11[tLast]\n",
    "        InvC1[tLast:t] = InvC1[tLast]\n",
    "        \n",
    "        InvM[t:end] += max(DemandC1[demandMonth]* Mfactor, cycleC1 * Mfactor * 7)\n",
    "        InvC11[t:end] += max(DemandC1[demandMonth]* C11factor, cycleC1 * C11factor * 7)\n",
    "    else\n",
    "        if InvC1[t] > DemandC1[demandMonth]\n",
    "            keepProduction = false\n",
    "        else\n",
    "            keepProduction = true\n",
    "        end\n",
    "\n",
    "        while ((InvM[t]-Mfactor)>0) && ((InvC11[t]-C11factor)>0) && ((t+1)<= days) && keepProduction          \n",
    "            prod = round(Int64, 200*randn(1)[1] + cycleC1/2)\n",
    "            nM = div(InvM[t], Mfactor)\n",
    "            nC11 = div(InvC11[t], C11factor)\n",
    "            \n",
    "            nC1 = min(nM, nC11, prod)\n",
    "            \n",
    "            InvC1[t:end] += nC1\n",
    "            InvM[t:end] -= nC1*Mfactor\n",
    "            InvC11[t:end] -= nC1*C11factor            \n",
    "            defect = rand()/10\n",
    "            \n",
    "            InvC1[t:end] -= round(Int64, InvC1[t+1]*defect)\n",
    "            if InvC1[t] > DemandC1[demandMonth]\n",
    "                break\n",
    "            end\n",
    "            t+=1\n",
    "            if t >= (demandMonth*20)\n",
    "                InvC1[t:end] -= DemandC1[demandMonth]\n",
    "                demandMonth += 1\n",
    "            end\n",
    "            Mleft = (DemandC1[demandMonth] - InvC1[t]) * Mfactor\n",
    "            C11left = (DemandC1[demandMonth] - InvC1[t]) * C11factor\n",
    "            if ((InvM[t] < Mleft) || (InvC11[t] < C11left)) && noOrder\n",
    "                noOrder = false\n",
    "                nOrders += 1\n",
    "                tLast = t\n",
    "                tAdd = round(Int64,2*randn(1)[1] + 5)\n",
    "                if tAdd < 0\n",
    "                    tOrder=t\n",
    "                else\n",
    "                    tOrder=tAdd+t\n",
    "                end\n",
    "\n",
    "                InvM[tLast:tOrder] = InvM[tLast]\n",
    "                InvC11[tLast:tOrder] = InvC11[tLast]\n",
    "                InvC1[tLast:tOrder] = InvC1[tLast]\n",
    "            end\n",
    "            if !noOrder\n",
    "                if !(((InvM[t]-Mfactor)>0) && ((InvC11[t]-C11factor)>0) && ((t+1)<= days) && keepProduction)\n",
    "                    t = tOrder\n",
    "                    noOrder = true\n",
    "                    InvM[t:end] += max(Mleft* Mfactor, cycleC1 * Mfactor * 7)\n",
    "                    InvC11[t:end] += max(C11left* C11factor, cycleC1 * C11factor * 7)\n",
    "                end\n",
    "                \n",
    "            end\n",
    "        end\n",
    "    end\n",
    "    t+=1\n",
    "end\n",
    "\n",
    "nOrders"
   ]
  },
  {
   "cell_type": "code",
   "execution_count": 2,
   "metadata": {
    "collapsed": false
   },
   "outputs": [
    {
     "name": "stdout",
     "output_type": "stream",
     "text": [
      "[Plots.jl] Initializing backend: pyplot\n"
     ]
    }
   ],
   "source": [
    "using Plots\n",
    "plot(1:(days+50), InvM/Mfactor, label = \"M scaled\",title=\"Inventory over 5 months\")\n",
    "plot!(1:(days+50), InvC11/C11factor, label=\"C11 scaled\")\n",
    "plot!(1:(days+50), InvC1, label=\"C1 actual\")\n",
    "\n",
    "using Images\n",
    "using FileIO\n",
    "savefig(\"c1invall.png\")\n"
   ]
  },
  {
   "cell_type": "code",
   "execution_count": 3,
   "metadata": {
    "collapsed": false
   },
   "outputs": [],
   "source": [
    "plot(1:(days+50), InvC1, label=\"C1\", title=\"Inventory of C1\")\n",
    "using Plots\n",
    "using Images\n",
    "using FileIO\n",
    "savefig(\"c1inv.png\")"
   ]
  },
  {
   "cell_type": "code",
   "execution_count": null,
   "metadata": {
    "collapsed": true
   },
   "outputs": [],
   "source": []
  }
 ],
 "metadata": {
  "anaconda-cloud": {},
  "kernelspec": {
   "display_name": "Julia 0.4.6",
   "language": "julia",
   "name": "julia-0.4"
  },
  "language_info": {
   "file_extension": ".jl",
   "mimetype": "application/julia",
   "name": "julia",
   "version": "0.4.7"
  }
 },
 "nbformat": 4,
 "nbformat_minor": 0
}
