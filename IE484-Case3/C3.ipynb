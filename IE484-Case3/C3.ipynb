{
 "cells": [
  {
   "cell_type": "code",
   "execution_count": 1,
   "metadata": {
    "collapsed": false
   },
   "outputs": [
    {
     "data": {
      "text/plain": [
       "1"
      ]
     },
     "execution_count": 1,
     "metadata": {},
     "output_type": "execute_result"
    }
   ],
   "source": [
    "days = 20*5\n",
    "\n",
    "DemandC3 = [1600 1600 1600 1800 1800 0]\n",
    "\n",
    "Mfactor = 60;\n",
    "C31factor = 2;\n",
    "\n",
    "InvC3 = zeros(days+50,1)\n",
    "InvM = zeros(days+50,1)\n",
    "InvC31 = zeros(days+50,1)\n",
    "\n",
    "InvM[1:end] = 20;\n",
    "InvC31[1:end] = 5;\n",
    "\n",
    "cycleC3 = 1664\n",
    "\n",
    "t=1;\n",
    "demandMonth = 1\n",
    "nOrders=0\n",
    "noOrder = true\n",
    "while t < days\n",
    "    if t >= (demandMonth*20)\n",
    "        InvC3[t:end] -= DemandC3[demandMonth]\n",
    "        demandMonth += 1\n",
    "    end\n",
    "    if InvC3[t] > DemandC3[demandMonth]\n",
    "        keepProduction = false\n",
    "    else\n",
    "        keepProduction = true\n",
    "    end\n",
    "\n",
    "    Mleft = (DemandC3[demandMonth] - InvC3[t]) * Mfactor\n",
    "    C31left = (DemandC3[demandMonth] - InvC3[t]) * C31factor\n",
    "    if ((InvM[t] < Mleft) || (InvC31[t] < C31left)) && noOrder && keepProduction\n",
    "        nOrders+=1\n",
    "        tLast = t\n",
    "        tAdd = round(Int64,2*randn(1)[1] + 5)\n",
    "        if tAdd < 0\n",
    "            t+=0\n",
    "        else\n",
    "            t+=tAdd\n",
    "        end\n",
    "        \n",
    "        InvM[tLast:t] = InvM[tLast]\n",
    "        InvC31[tLast:t] = InvC31[tLast]\n",
    "        InvC3[tLast:t] = InvC3[tLast]\n",
    "        \n",
    "        InvM[t:end] += max(DemandC3[demandMonth]* Mfactor, cycleC3 * Mfactor * 7)\n",
    "        InvC31[t:end] += max(DemandC3[demandMonth]* C31factor, cycleC3 * C31factor * 7)\n",
    "    else\n",
    "        if InvC3[t] > DemandC3[demandMonth]\n",
    "            keepProduction = false\n",
    "        else\n",
    "            keepProduction = true\n",
    "        end\n",
    "\n",
    "        while ((InvM[t]-Mfactor)>0) && ((InvC31[t]-C31factor)>0) && ((t+1)<= days) && keepProduction          \n",
    "            prod = round(Int64, 200*randn(1)[1] + cycleC3/2)\n",
    "            nM = div(InvM[t], Mfactor)\n",
    "            nC31 = div(InvC31[t], C31factor)\n",
    "            \n",
    "            nC3 = min(nM, nC31, prod)\n",
    "            \n",
    "            InvC3[t:end] += nC3\n",
    "            InvM[t:end] -= nC3*Mfactor\n",
    "            InvC31[t:end] -= nC3*C31factor            \n",
    "            defect = rand()/10\n",
    "            \n",
    "            InvC3[t:end] -= round(Int64, InvC3[t+1]*defect)\n",
    "            if InvC3[t] > DemandC3[demandMonth]\n",
    "                break\n",
    "            end\n",
    "            t+=1\n",
    "            if t >= (demandMonth*20)\n",
    "                InvC3[t:end] -= DemandC3[demandMonth]\n",
    "                demandMonth += 1\n",
    "            end\n",
    "            Mleft = (DemandC3[demandMonth] - InvC3[t]) * Mfactor\n",
    "            C31left = (DemandC3[demandMonth] - InvC3[t]) * C31factor\n",
    "            if ((InvM[t] < Mleft) || (InvC31[t] < C31left)) && noOrder\n",
    "                noOrder = false\n",
    "                nOrders += 1\n",
    "                tLast = t\n",
    "                tAdd = round(Int64,2*randn(1)[1] + 5)\n",
    "                if tAdd < 0\n",
    "                    tOrder=t\n",
    "                else\n",
    "                    tOrder=tAdd+t\n",
    "                end\n",
    "\n",
    "                InvM[tLast:tOrder] = InvM[tLast]\n",
    "                InvC31[tLast:tOrder] = InvC31[tLast]\n",
    "                InvC3[tLast:tOrder] = InvC3[tLast]\n",
    "            end\n",
    "            if !noOrder\n",
    "                if !(((InvM[t]-Mfactor)>0) && ((InvC31[t]-C31factor)>0) && ((t+1)<= days) && keepProduction)\n",
    "                    t = tOrder\n",
    "                    noOrder = true\n",
    "                    InvM[t:end] += max(Mleft* Mfactor, cycleC3 * Mfactor * 7)\n",
    "                    InvC31[t:end] += max(C31left* C31factor, cycleC3 * C31factor * 7)\n",
    "                end\n",
    "                \n",
    "            end\n",
    "        end\n",
    "    end\n",
    "    t+=1\n",
    "end\n",
    "\n",
    "nOrders"
   ]
  },
  {
   "cell_type": "code",
   "execution_count": 2,
   "metadata": {
    "collapsed": false
   },
   "outputs": [
    {
     "name": "stdout",
     "output_type": "stream",
     "text": [
      "[Plots.jl] Initializing backend: pyplot\n"
     ]
    }
   ],
   "source": [
    "using Plots\n",
    "plot(1:(days+50), InvM/Mfactor, label = \"M scaled\",title=\"Inventory over 5 months\")\n",
    "plot!(1:(days+50), InvC31/C31factor, label=\"C31 scaled\")\n",
    "plot!(1:(days+50), InvC3, label=\"C3 actual\")\n",
    "\n",
    "using Images\n",
    "using FileIO\n",
    "savefig(\"c3invall.png\")"
   ]
  },
  {
   "cell_type": "code",
   "execution_count": 3,
   "metadata": {
    "collapsed": false
   },
   "outputs": [],
   "source": [
    "plot(1:(days+50), InvC3, label=\"C3\", title=\"Inventory of C3\")\n",
    "\n",
    "savefig(\"c3inv.png\")"
   ]
  },
  {
   "cell_type": "code",
   "execution_count": null,
   "metadata": {
    "collapsed": true
   },
   "outputs": [],
   "source": []
  }
 ],
 "metadata": {
  "anaconda-cloud": {},
  "kernelspec": {
   "display_name": "Julia 0.4.6",
   "language": "julia",
   "name": "julia-0.4"
  },
  "language_info": {
   "file_extension": ".jl",
   "mimetype": "application/julia",
   "name": "julia",
   "version": "0.4.7"
  }
 },
 "nbformat": 4,
 "nbformat_minor": 0
}
