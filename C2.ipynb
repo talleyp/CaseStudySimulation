{
 "cells": [
  {
   "cell_type": "code",
   "execution_count": 1,
   "metadata": {
    "collapsed": false
   },
   "outputs": [
    {
     "data": {
      "text/plain": [
       "1"
      ]
     },
     "execution_count": 1,
     "metadata": {},
     "output_type": "execute_result"
    }
   ],
   "source": [
    "days = 20*5\n",
    "\n",
    "DemandC2 = [1200 1400 1400 1400 1600 0]\n",
    "\n",
    "Mfactor = 60;\n",
    "C21factor = 3;\n",
    "\n",
    "InvC2 = zeros(days+50,1)\n",
    "InvM = zeros(days+50,1)\n",
    "InvC21 = zeros(days+50,1)\n",
    "\n",
    "InvC21[1:end] = 9;\n",
    "\n",
    "cycleC2 = 1883\n",
    "\n",
    "t=1;\n",
    "demandMonth = 1\n",
    "nOrders=0\n",
    "noOrder = true\n",
    "while t < days\n",
    "    if t >= (demandMonth*20)\n",
    "        InvC2[t:end] -= DemandC2[demandMonth]\n",
    "        demandMonth += 1\n",
    "    end\n",
    "    if InvC2[t] > DemandC2[demandMonth]\n",
    "        keepProduction = false\n",
    "    else\n",
    "        keepProduction = true\n",
    "    end\n",
    "\n",
    "    Mleft = (DemandC2[demandMonth] - InvC2[t]) * Mfactor\n",
    "    C21left = (DemandC2[demandMonth] - InvC2[t]) * C21factor\n",
    "    if ((InvM[t] < Mleft) || (InvC21[t] < C21left)) && noOrder && keepProduction\n",
    "        nOrders+=1\n",
    "        tLast = t\n",
    "        tAdd = round(Int64,2*randn(1)[1] + 5)\n",
    "        if tAdd < 0\n",
    "            t+=0\n",
    "        else\n",
    "            t+=tAdd\n",
    "        end\n",
    "        \n",
    "        InvM[tLast:t] = InvM[tLast]\n",
    "        InvC21[tLast:t] = InvC21[tLast]\n",
    "        InvC2[tLast:t] = InvC2[tLast]\n",
    "        \n",
    "        InvM[t:end] += max(DemandC2[demandMonth]* Mfactor, cycleC2 * Mfactor * 7)\n",
    "        InvC21[t:end] += max(DemandC2[demandMonth]* C21factor, cycleC2 * C21factor * 7)\n",
    "    else\n",
    "        if InvC2[t] > DemandC2[demandMonth]\n",
    "            keepProduction = false\n",
    "        else\n",
    "            keepProduction = true\n",
    "        end\n",
    "\n",
    "        while ((InvM[t]-Mfactor)>0) && ((InvC21[t]-C21factor)>0) && ((t+1)<= days) && keepProduction          \n",
    "            prod = round(Int64, 200*randn(1)[1] + cycleC2/2)\n",
    "            nM = div(InvM[t], Mfactor)\n",
    "            nC21 = div(InvC21[t], C21factor)\n",
    "            \n",
    "            nC2 = min(nM, nC21, prod)\n",
    "            \n",
    "            InvC2[t:end] += nC2\n",
    "            InvM[t:end] -= nC2*Mfactor\n",
    "            InvC21[t:end] -= nC2*C21factor            \n",
    "            defect = rand()/10\n",
    "            \n",
    "            InvC2[t:end] -= round(Int64, InvC2[t+1]*defect)\n",
    "            if InvC2[t] > DemandC2[demandMonth]\n",
    "                break\n",
    "            end\n",
    "            t+=1\n",
    "            if t >= (demandMonth*20)\n",
    "                InvC2[t:end] -= DemandC2[demandMonth]\n",
    "                demandMonth += 1\n",
    "            end\n",
    "            Mleft = (DemandC2[demandMonth] - InvC2[t]) * Mfactor\n",
    "            C21left = (DemandC2[demandMonth] - InvC2[t]) * C21factor\n",
    "            if ((InvM[t] < Mleft) || (InvC21[t] < C21left)) && noOrder\n",
    "                noOrder = false\n",
    "                nOrders += 1\n",
    "                tLast = t\n",
    "                tAdd = round(Int64,2*randn(1)[1] + 5)\n",
    "                if tAdd < 0\n",
    "                    tOrder=t\n",
    "                else\n",
    "                    tOrder=tAdd+t\n",
    "                end\n",
    "\n",
    "                InvM[tLast:tOrder] = InvM[tLast]\n",
    "                InvC21[tLast:tOrder] = InvC21[tLast]\n",
    "                InvC2[tLast:tOrder] = InvC2[tLast]\n",
    "            end\n",
    "            if !noOrder\n",
    "                if !(((InvM[t]-Mfactor)>0) && ((InvC21[t]-C21factor)>0) && ((t+1)<= days) && keepProduction)\n",
    "                    t = tOrder\n",
    "                    noOrder = true\n",
    "                    InvM[t:end] += max(Mleft* Mfactor, cycleC2 * Mfactor * 7)\n",
    "                    InvC21[t:end] += max(C21left* C21factor, cycleC2 * C21factor * 7)\n",
    "                end\n",
    "                \n",
    "            end\n",
    "        end\n",
    "    end\n",
    "    t+=1\n",
    "end\n",
    "\n",
    "nOrders"
   ]
  },
  {
   "cell_type": "code",
   "execution_count": 2,
   "metadata": {
    "collapsed": false
   },
   "outputs": [
    {
     "name": "stdout",
     "output_type": "stream",
     "text": [
      "[Plots.jl] Initializing backend: pyplot\n"
     ]
    }
   ],
   "source": [
    "using Plots\n",
    "plot(1:(days+50), InvM/Mfactor, label = \"M scaled\",title=\"Inventory over 5 months\")\n",
    "plot!(1:(days+50), InvC21/C21factor, label=\"C21 scaled\")\n",
    "plot!(1:(days+50), InvC2, label=\"C2 actual\")\n",
    "\n",
    "using Images\n",
    "using FileIO\n",
    "savefig(\"c2invall.png\")"
   ]
  },
  {
   "cell_type": "code",
   "execution_count": 4,
   "metadata": {
    "collapsed": false
   },
   "outputs": [],
   "source": [
    "plot(1:(days+50), InvC2, label=\"C2\", title=\"Inventory of C2\")\n",
    "\n",
    "using Images\n",
    "using FileIO\n",
    "savefig(\"c2inv.png\")"
   ]
  },
  {
   "cell_type": "code",
   "execution_count": null,
   "metadata": {
    "collapsed": true
   },
   "outputs": [],
   "source": []
  }
 ],
 "metadata": {
  "anaconda-cloud": {},
  "kernelspec": {
   "display_name": "Julia 0.4.6",
   "language": "julia",
   "name": "julia-0.4"
  },
  "language_info": {
   "file_extension": ".jl",
   "mimetype": "application/julia",
   "name": "julia",
   "version": "0.4.7"
  }
 },
 "nbformat": 4,
 "nbformat_minor": 0
}
