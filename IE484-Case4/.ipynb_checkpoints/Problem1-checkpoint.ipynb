{
 "cells": [
  {
   "cell_type": "code",
   "execution_count": 13,
   "metadata": {
    "collapsed": false,
    "scrolled": true
   },
   "outputs": [
    {
     "data": {
      "text/plain": [
       "10x10 Array{Float64,2}:\n",
       " 0.0  0.0  0.0  0.0  0.0  0.0  0.0  0.0  0.193462   0.755733\n",
       " 0.0  0.0  0.0  0.0  0.0  0.0  0.0  0.0  0.090845   0.810266\n",
       " 0.0  0.0  0.0  0.0  0.0  0.0  0.0  0.0  0.477385   0.502293\n",
       " 0.0  0.0  0.0  0.0  0.0  0.0  0.0  0.0  0.0617746  0.870981\n",
       " 0.0  0.0  0.0  0.0  0.0  0.0  0.0  0.0  0.072676   0.848213\n",
       " 0.0  0.0  0.0  0.0  0.0  0.0  0.0  0.0  0.127405   0.819128\n",
       " 0.0  0.0  0.0  0.0  0.0  0.0  0.0  0.0  0.072676   0.848213\n",
       " 0.0  0.0  0.0  0.0  0.0  0.0  0.0  0.0  0.072676   0.848213\n",
       " 0.0  0.0  0.0  0.0  0.0  0.0  0.0  0.0  1.0        0.0     \n",
       " 0.0  0.0  0.0  0.0  0.0  0.0  0.0  0.0  0.0        1.0     "
      ]
     },
     "execution_count": 13,
     "metadata": {},
     "output_type": "execute_result"
    }
   ],
   "source": [
    "# Assuming 13 weeks per quarter\n",
    "alpha = 0.8\n",
    "beta = 0.7\n",
    "A = [0 2*alpha/5 2*alpha/5 0 alpha/5 0 0 0 0 1-alpha\n",
    "    beta/11 0 beta/11 4*beta/11 0 4*beta/11 0 0 0 1-beta\n",
    "    alpha/2 0 0 0 0 0 0 0 alpha/2 1-alpha\n",
    "    0 alpha/4 0 0 0 0 alpha/2 alpha/4 0 1-alpha\n",
    "    0 alpha 0 0 0 0 0 0 0 1-alpha\n",
    "    2*alpha/3 alpha/3 0 0 0 0 0 0 0 1-alpha\n",
    "    0 alpha 0 0 0 0 0 0 0 1-alpha\n",
    "    0 alpha 0 0 0 0 0 0 0 1-alpha\n",
    "    0 0 0 0 0 0 0 0 1 0\n",
    "    0 0 0 0 0 0 0 0 0 1]\n",
    "\n",
    "# V, D = eig(A)\n",
    "# Steady_State = V[:,1]/sum(V[:,1])\n"
   ]
  },
  {
   "cell_type": "code",
   "execution_count": 253,
   "metadata": {
    "collapsed": false
   },
   "outputs": [
    {
     "data": {
      "text/plain": [
       "productACapacity (generic function with 2 methods)"
      ]
     },
     "execution_count": 253,
     "metadata": {},
     "output_type": "execute_result"
    }
   ],
   "source": [
    "function productACapacity(maxMachine)\n",
    "    tEnd = 10\n",
    "    hourWeek = round(Int64,((21 * 7) - 20) * 0.85)\n",
    "    InvStations = zeros(8, hourWeek*(tEnd+1))\n",
    "    processInv = zeros(30, hourWeek*(tEnd+1))\n",
    "    finishedInv = zeros(1, hourWeek*(tEnd+1))\n",
    "    speed = [25.3, 23.2, 100.5, 15.5, 32.9, 60.0, 50.2, 33.5] \n",
    "    #maxMachine = [1 1 1 1 1 1 1 1]\n",
    "    t = 0\n",
    "    hour = 0\n",
    "\n",
    "    while t< tEnd\n",
    "        t+=1\n",
    "        endHour = (t)*hourWeek\n",
    "        hour = (t-1)*hourWeek\n",
    "        \n",
    "        finishedInv[hour+1:end] = 0\n",
    "        while hour < endHour\n",
    "            #@show hour\n",
    "            hour += 1\n",
    "            InvStations[1, hour:end] += speed[1]*2\n",
    "            notBusy1 = true\n",
    "            notBusy2 = true\n",
    "            notBusy3 = true\n",
    "            notBusy4 = true\n",
    "            notBusy5 = true\n",
    "            notBusy6 = true\n",
    "            notBusy7 = true\n",
    "            notBusy8 = true\n",
    "            nMacUse = [0 0 0 0 0 0 0 0]\n",
    "            #  At station 1\n",
    "            while notBusy1 \n",
    "                if rand() <= 0.85\n",
    "                    if (processInv[15,hour] > 0) && notBusy1\n",
    "                        nProcess = min(speed[1], processInv[15,hour]) \n",
    "                        InvStations[5,hour:end] += nProcess #* 0.8\n",
    "                        InvStations[6,hour:end] -= nProcess\n",
    "\n",
    "                        processInv[16,hour:end] += nProcess #* 0.8\n",
    "                        processInv[15, hour:end] -= nProcess\n",
    "\n",
    "                        nMacUse[1] += 1\n",
    "                        if nMacUse[1] == maxMachine[1]\n",
    "                            notBusy1 = false\n",
    "                        end\n",
    "                    end\n",
    "                    if (processInv[7,hour] > 0) && notBusy1\n",
    "                        nProcess = min(speed[1], processInv[7,hour]) \n",
    "                        InvStations[5,hour:end] += nProcess #* 0.8\n",
    "                        InvStations[3,hour:end] -= nProcess\n",
    "\n",
    "                        processInv[8,hour:end] += nProcess #* 0.8\n",
    "                        processInv[7, hour:end] -= nProcess\n",
    "\n",
    "                        nMacUse[1] += 1\n",
    "                        if nMacUse[1] == maxMachine[1]\n",
    "                            notBusy1 = false\n",
    "                        end\n",
    "                    end\n",
    "                    if (processInv[5,hour] > 0) && notBusy1\n",
    "                        nProcess = min(speed[1], processInv[5,hour])\n",
    "                        InvStations[3,hour:end] += nProcess  #* 0.8\n",
    "                        InvStations[6,hour:end] -= nProcess\n",
    "\n",
    "                        processInv[6,hour:end] += nProcess #* 0.8\n",
    "                        processInv[5, hour:end] -= nProcess\n",
    "\n",
    "                        nMacUse[1] += 1\n",
    "                        if nMacUse[1] == maxMachine[1]\n",
    "                            notBusy1 = false\n",
    "                        end\n",
    "                    end\n",
    "                    if (processInv[2,hour] > 0) && notBusy1\n",
    "                        nProcess = min(speed[1], processInv[2,hour]) \n",
    "                        InvStations[2,hour:end] += nProcess #* 0.8\n",
    "                        InvStations[1,hour:end] -= nProcess\n",
    "\n",
    "                        processInv[3,hour:end] += nProcess #* 0.8\n",
    "                        processInv[2, hour:end] -= nProcess\n",
    "\n",
    "                        nMacUse[1] += 1\n",
    "                        if nMacUse[1] == maxMachine[1]\n",
    "                            notBusy1 = false\n",
    "                        end\n",
    "                    end\n",
    "                    if notBusy1\n",
    "                        nProcess = speed[1] #* 0.8\n",
    "                        InvStations[2,hour:end] += nProcess\n",
    "\n",
    "                        processInv[1,hour:end] += nProcess\n",
    "\n",
    "                        nMacUse[1] += 1\n",
    "                        if nMacUse[1] == maxMachine[1]\n",
    "                            notBusy1 = false\n",
    "                        end\n",
    "                    end\n",
    "                else\n",
    "                    nMacUse[1] += 1\n",
    "                        if nMacUse[1] == maxMachine[1]\n",
    "                            notBusy1 = false\n",
    "                        end\n",
    "                end\n",
    "            end\n",
    "            # At station 2\n",
    "            while notBusy2\n",
    "                if rand() <= 0.6\n",
    "                    if (processInv[29,hour] > 0) && notBusy2\n",
    "                        nProcess = min(speed[2], processInv[29,hour]) \n",
    "                        InvStations[3,hour:end] += nProcess #* 0.7\n",
    "                        InvStations[8,hour:end] -= nProcess\n",
    "\n",
    "                        processInv[30,hour:end] += nProcess #* 0.7\n",
    "                        processInv[29, hour:end] -= nProcess\n",
    "\n",
    "                        nMacUse[2] += 1\n",
    "                        if nMacUse[2] == maxMachine[2]\n",
    "                            notBusy2 = false\n",
    "                        end\n",
    "                    end\n",
    "                    if (processInv[26,hour] > 0) && notBusy2\n",
    "                        nProcess = min(speed[2], processInv[26,hour]) \n",
    "                        InvStations[4,hour:end] += nProcess #* 0.7\n",
    "                        InvStations[7,hour:end] -= nProcess\n",
    "\n",
    "                        processInv[27,hour:end] += nProcess #* 0.7\n",
    "                        processInv[26, hour:end] -= nProcess\n",
    "\n",
    "                        nMacUse[2] += 1\n",
    "                        if nMacUse[2] == maxMachine[2]\n",
    "                            notBusy2 = false\n",
    "                        end\n",
    "                    end\n",
    "                    if (processInv[23,hour] > 0) && notBusy2\n",
    "                        nProcess = min(speed[2], processInv[23,hour]) \n",
    "                        InvStations[4,hour:end] += nProcess #* 0.7\n",
    "                        InvStations[5,hour:end] -= nProcess\n",
    "\n",
    "                        processInv[24,hour:end] += nProcess #* 0.7\n",
    "                        processInv[23, hour:end] -= nProcess\n",
    "\n",
    "                        nMacUse[2] += 1\n",
    "                        if nMacUse[2] == maxMachine[2]\n",
    "                            notBusy2 = false\n",
    "                        end\n",
    "                    end\n",
    "                    if (processInv[20,hour] > 0) && notBusy2\n",
    "                        nProcess = min(speed[2], processInv[20,hour]) \n",
    "                        InvStations[4,hour:end] += nProcess #* 0.7\n",
    "                        InvStations[7,hour:end] -= nProcess \n",
    "\n",
    "                        processInv[21,hour:end] += nProcess #* 0.7\n",
    "                        processInv[20, hour:end] -= nProcess\n",
    "\n",
    "                        nMacUse[2] += 1\n",
    "                        if nMacUse[2] == maxMachine[2]\n",
    "                            notBusy2 = false\n",
    "                        end\n",
    "                    end\n",
    "                    if (processInv[17,hour] > 0) && notBusy2\n",
    "                            nProcess = min(speed[2], processInv[17,hour]) \n",
    "                            InvStations[4,hour:end] += nProcess #* 0.7\n",
    "                            InvStations[5,hour:end] -= nProcess\n",
    "\n",
    "                            processInv[18,hour:end] += nProcess #* 0.7\n",
    "                            processInv[17, hour:end] -= nProcess\n",
    "\n",
    "                            nMacUse[2] += 1\n",
    "                            if nMacUse[2] == maxMachine[2]\n",
    "                                notBusy2 = false\n",
    "                            end\n",
    "                    end\n",
    "                    if (processInv[13,hour] > 0) && notBusy2\n",
    "                        nProcess = min(speed[2], processInv[13,hour]) \n",
    "                        InvStations[6,hour:end] += nProcess #* 0.7\n",
    "                        InvStations[6,hour:end] -= nProcess\n",
    "\n",
    "                        processInv[14,hour:end] += nProcess #* 0.7\n",
    "                        processInv[13, hour:end] -= nProcess\n",
    "\n",
    "                        nMacUse[2] += 1\n",
    "                        if nMacUse[2] == maxMachine[2]\n",
    "                            notBusy2 = false\n",
    "                        end\n",
    "                    end\n",
    "                    if (processInv[11,hour] > 0) && notBusy2\n",
    "                        nProcess = min(speed[2], processInv[11,hour]) \n",
    "                        InvStations[6,hour:end] += nProcess #* 0.7\n",
    "                        InvStations[4,hour:end] -= nProcess\n",
    "\n",
    "                        processInv[12,hour:end] += nProcess #* 0.7\n",
    "                        processInv[11, hour:end] -= nProcess  \n",
    "\n",
    "                        nMacUse[2] += 1\n",
    "                        if nMacUse[2] == maxMachine[2]\n",
    "                            notBusy2 = false\n",
    "                        end\n",
    "                    end\n",
    "                    if (processInv[9,hour] > 0) && notBusy2\n",
    "                            nProcess = min(speed[2], processInv[9,hour]) \n",
    "                            InvStations[4,hour:end] += nProcess #* 0.7\n",
    "                            InvStations[5,hour:end] -= nProcess\n",
    "\n",
    "                            processInv[10,hour:end] += nProcess #* 0.7\n",
    "                            processInv[9, hour:end] -= nProcess\n",
    "\n",
    "                            nMacUse[2] += 1\n",
    "                            if nMacUse[2] == maxMachine[2]\n",
    "                                notBusy2 = false\n",
    "                            end\n",
    "                    end\n",
    "                    if (processInv[3,hour] > 0) && notBusy2\n",
    "                        nProcess = min(speed[2], processInv[3,hour]) \n",
    "                        InvStations[6,hour:end] += nProcess #* 0.7\n",
    "                        InvStations[1,hour:end] -= nProcess\n",
    "\n",
    "                        processInv[4,hour:end] += nProcess #* 0.7\n",
    "                        processInv[3, hour:end] -= nProcess   \n",
    "\n",
    "                        nMacUse[2] += 1\n",
    "                        if nMacUse[2] == maxMachine[2]\n",
    "                            notBusy2 = false\n",
    "                        end\n",
    "                    end\n",
    "                    if (processInv[1,hour] > 0) && notBusy2\n",
    "                        nProcess = min(speed[2], processInv[1,hour]) \n",
    "                        InvStations[1,hour:end] += nProcess #* 0.7\n",
    "                        InvStations[1,hour:end] -= nProcess\n",
    "\n",
    "                        processInv[2,hour:end] += nProcess #* 0.7\n",
    "                        processInv[1, hour:end] -= nProcess\n",
    "\n",
    "                        nMacUse[2] += 1\n",
    "                        if nMacUse[2] == maxMachine[2]\n",
    "                            notBusy2 = false\n",
    "                        end\n",
    "                    end\n",
    "                else \n",
    "                    nMacUse[2] += 1\n",
    "                        if nMacUse[2] == maxMachine[2]\n",
    "                            notBusy2 = false\n",
    "                        end\n",
    "                end\n",
    "            end\n",
    "            \n",
    "            # At station 3\n",
    "            while notBusy3\n",
    "                if rand() <= 0.80\n",
    "                    if (processInv[30,hour] > 0) && notBusy3\n",
    "                        nProcess = min(speed[3], processInv[30,hour])\n",
    "                        finishedInv[hour:end] += nProcess #* 0.8\n",
    "                        InvStations[2,hour:end] -= nProcess\n",
    "\n",
    "                        processInv[30, hour:end] -= nProcess\n",
    "\n",
    "                        nMacUse[3] += 1\n",
    "                        if nMacUse[3] == maxMachine[3]\n",
    "                            notBusy3 = false\n",
    "                        end\n",
    "                    end\n",
    "                    if (processInv[6,hour] > 0) && notBusy3\n",
    "                        nProcess = min(speed[3], processInv[6,hour]) \n",
    "                        InvStations[1,hour:end] += nProcess #* 0.8\n",
    "                        InvStations[1,hour:end] -= nProcess\n",
    "\n",
    "                        processInv[7,hour:end] += nProcess #* 0.8\n",
    "                        processInv[6, hour:end] -= nProcess\n",
    "\n",
    "                        nMacUse[3] += 1\n",
    "                        if nMacUse[3] == maxMachine[3]\n",
    "                            notBusy3 = false\n",
    "                        end\n",
    "                    end\n",
    "                else\n",
    "                    nMacUse[3] += 1\n",
    "                    if nMacUse[3] == maxMachine[3]\n",
    "                        notBusy3 = false\n",
    "                    end\n",
    "                end\n",
    "            end\n",
    "            \n",
    "            # At station 4\n",
    "            while notBusy4\n",
    "                if rand() <= 0.60\n",
    "                    if (processInv[27,hour] > 0) && notBusy4\n",
    "                        nProcess = min(speed[4], processInv[27,hour]) \n",
    "                        InvStations[8,hour:end] += nProcess# * 0.8\n",
    "                        InvStations[2,hour:end] -= nProcess\n",
    "\n",
    "                        processInv[28,hour:end] += nProcess #* 0.8\n",
    "                        processInv[27, hour:end] -= nProcess\n",
    "\n",
    "                        nMacUse[4] += 1\n",
    "                        if nMacUse[4] == maxMachine[4]\n",
    "                            notBusy4 = false\n",
    "                        end\n",
    "                    end\n",
    "                    if (processInv[24,hour] > 0) && notBusy4\n",
    "                        nProcess = min(speed[4], processInv[24,hour]) \n",
    "                        InvStations[5,hour:end] += nProcess# * 0.8\n",
    "                        InvStations[2,hour:end] -= nProcess\n",
    "\n",
    "                        processInv[25,hour:end] += nProcess# * 0.8\n",
    "                        processInv[24, hour:end] -= nProcess\n",
    "\n",
    "                        nMacUse[4] += 1\n",
    "                        if nMacUse[4] == maxMachine[4]\n",
    "                            notBusy4 = false\n",
    "                        end\n",
    "                    end\n",
    "                    if (processInv[21,hour] > 0) && notBusy4\n",
    "                        nProcess = min(speed[4], processInv[21,hour]) \n",
    "                        InvStations[7,hour:end] += nProcess# * 0.8\n",
    "                        InvStations[2,hour:end] -= nProcess\n",
    "\n",
    "                        processInv[22,hour:end] += nProcess# * 0.8\n",
    "                        processInv[21, hour:end] -= nProcess\n",
    "\n",
    "                        nMacUse[4] += 1\n",
    "                        if nMacUse[4] == maxMachine[4]\n",
    "                            notBusy4 = false\n",
    "                        end\n",
    "                    end\n",
    "                    if (processInv[18,hour] > 0) && notBusy4\n",
    "                        nProcess = min(speed[4], processInv[18,hour]) \n",
    "                        InvStations[7,hour:end] += nProcess# * 0.8\n",
    "                        InvStations[2,hour:end] -= nProcess\n",
    "\n",
    "                        processInv[19,hour:end] += nProcess #* 0.8\n",
    "                        processInv[18, hour:end] -= nProcess\n",
    "\n",
    "                        nMacUse[4] += 1\n",
    "                        if nMacUse[4] == maxMachine[4]\n",
    "                            notBusy4 = false\n",
    "                        end\n",
    "                    end\n",
    "                    if (processInv[10,hour] > 0) && notBusy4\n",
    "                        nProcess = min(speed[4], processInv[10,hour]) \n",
    "                        InvStations[2,hour:end] += nProcess# * 0.8\n",
    "                        InvStations[2,hour:end] -= nProcess\n",
    "\n",
    "                        processInv[11,hour:end] += nProcess# * 0.8\n",
    "                        processInv[10, hour:end] -= nProcess\n",
    "\n",
    "                        nMacUse[4] += 1\n",
    "                        if nMacUse[4] == maxMachine[4]\n",
    "                            notBusy4 = false\n",
    "                        end\n",
    "                    end\n",
    "                else\n",
    "                    nMacUse[4] += 1\n",
    "                    if nMacUse[4] == maxMachine[4]\n",
    "                        notBusy4 = false\n",
    "                    end\n",
    "                end\n",
    "            end\n",
    "            # At station 5\n",
    "            while notBusy5 \n",
    "                if rand() <= 0.85\n",
    "                    if (processInv[22,hour] > 0) && notBusy5\n",
    "                        nProcess = min(speed[5], processInv[22,hour]) \n",
    "                        InvStations[2,hour:end] += nProcess #* 0.8\n",
    "                        InvStations[4,hour:end] -= nProcess\n",
    "\n",
    "                        processInv[23,hour:end] += nProcess #* 0.8\n",
    "                        processInv[22, hour:end] -= nProcess\n",
    "\n",
    "                        nMacUse[5] += 1\n",
    "                        if nMacUse[5] == maxMachine[5]\n",
    "                            notBusy5 = false\n",
    "                        end\n",
    "                    end\n",
    "                    if (processInv[16,hour] > 0) && notBusy5\n",
    "                        nProcess = min(speed[5], processInv[16,hour]) \n",
    "                        InvStations[2,hour:end] += nProcess# * 0.8\n",
    "                        InvStations[1,hour:end] -= nProcess\n",
    "\n",
    "                        processInv[17,hour:end] += nProcess# * 0.8\n",
    "                        processInv[16, hour:end] -= nProcess\n",
    "\n",
    "                        nMacUse[5] += 1\n",
    "                        if nMacUse[5] == maxMachine[5]\n",
    "                            notBusy5 = false\n",
    "                        end\n",
    "                    end\n",
    "                    if (processInv[8,hour] > 0) && notBusy5\n",
    "                        nProcess = min(speed[5], processInv[8,hour]) \n",
    "                        InvStations[2,hour:end] += nProcess #* 0.8\n",
    "                        InvStations[1,hour:end] -= nProcess\n",
    "\n",
    "                        processInv[9,hour:end] += nProcess #* 0.8\n",
    "                        processInv[8, hour:end] -= nProcess\n",
    "\n",
    "                        nMacUse[5] += 1\n",
    "                        if nMacUse[5] == maxMachine[5]\n",
    "                            notBusy5 = false\n",
    "                        end\n",
    "                    end\n",
    "                else \n",
    "                    nMacUse[5] += 1\n",
    "                        if nMacUse[5] == maxMachine[5]\n",
    "                            notBusy5 = false\n",
    "                        end\n",
    "                end\n",
    "            end\n",
    "            # At station 6\n",
    "            while notBusy6\n",
    "                if rand() <= 0.60\n",
    "                    if (processInv[14,hour] > 0) && notBusy6\n",
    "                        nProcess = min(speed[6], processInv[14,hour]) \n",
    "                        InvStations[1,hour:end] += nProcess #* 0.8\n",
    "                        InvStations[2,hour:end] -= nProcess\n",
    "\n",
    "                        processInv[15,hour:end] += nProcess #* 0.8\n",
    "                        processInv[14, hour:end] -= nProcess\n",
    "\n",
    "                        nMacUse[6] += 1\n",
    "                        if nMacUse[6] == maxMachine[6]\n",
    "                            notBusy6 = false\n",
    "                        end\n",
    "                    end\n",
    "                    if (processInv[12,hour] > 0) && notBusy6\n",
    "                        nProcess = min(speed[6], processInv[12,hour]) \n",
    "                        InvStations[2,hour:end] += nProcess# * 0.8\n",
    "                        InvStations[2,hour:end] -= nProcess\n",
    "\n",
    "                        processInv[13,hour:end] += nProcess# * 0.8\n",
    "                        processInv[12, hour:end] -= nProcess\n",
    "\n",
    "                        nMacUse[6] += 1\n",
    "                        if nMacUse[6] == maxMachine[6]\n",
    "                            notBusy6 = false\n",
    "                        end\n",
    "                    end\n",
    "                    if (processInv[4,hour] > 0) && notBusy6\n",
    "                        nProcess = min(speed[6], processInv[4,hour]) \n",
    "                        InvStations[1,hour:end] += nProcess# * 0.8\n",
    "                        InvStations[2,hour:end] -= nProcess\n",
    "\n",
    "                        processInv[5,hour:end] += nProcess# * 0.8\n",
    "                        processInv[4,hour:end] -= nProcess\n",
    "\n",
    "                        nMacUse[6] += 1\n",
    "                        if nMacUse[6] == maxMachine[6]\n",
    "                            notBusy6 = false\n",
    "                        end\n",
    "                    end\n",
    "                else\n",
    "                    nMacUse[6] += 1\n",
    "                    if nMacUse[6] == maxMachine[6]\n",
    "                        notBusy6 = false\n",
    "                    end\n",
    "                end\n",
    "            end\n",
    "                # At station 7\n",
    "            while notBusy7\n",
    "                if rand() <= 0.70 \n",
    "                    if (processInv[25,hour] > 0) && notBusy7\n",
    "                        nProcess = min(speed[7], processInv[25,hour:end]) \n",
    "                        InvStations[2,hour:end] += nProcess #* 0.8\n",
    "                        InvStations[4,hour:end] -= nProcess\n",
    "\n",
    "                        processInv[26,hour:end] += nProcess #* 0.8\n",
    "                        processInv[25, hour:end] -= nProcess\n",
    "\n",
    "                        nMacUse[7] += 1\n",
    "                        if nMacUse[7] == maxMachine[7]\n",
    "                            notBusy7 = false\n",
    "                        end\n",
    "                    end\n",
    "                    if (processInv[19,hour] > 0) && notBusy7\n",
    "                        nProcess = min(speed[7], processInv[19,hour]) \n",
    "                        InvStations[2,hour:end] += nProcess #* 0.8\n",
    "                        InvStations[4,hour:end] -= nProcess\n",
    "\n",
    "                        processInv[20,hour:end] += nProcess #* 0.8\n",
    "                        processInv[19, hour:end] -= nProcess\n",
    "\n",
    "                        nMacUse[7] += 1\n",
    "                        if nMacUse[7] == maxMachine[7]\n",
    "                            notBusy7 = false\n",
    "                        end\n",
    "                    end\n",
    "\n",
    "                else\n",
    "                    nMacUse[7] += 1\n",
    "                    if nMacUse[7] == maxMachine[7]\n",
    "                        notBusy7 = false\n",
    "                    end\n",
    "                end\n",
    "            end\n",
    "            # At station 8\n",
    "            while notBusy8\n",
    "                if rand() <= 0.85\n",
    "                    if (processInv[28,hour] > 0) && notBusy8\n",
    "                        nProcess = min(speed[8], processInv[28,hour]) \n",
    "                        InvStations[2,hour:end] += nProcess #* 0.8\n",
    "                        InvStations[4,hour:end] -= nProcess\n",
    "\n",
    "                        processInv[29,hour:end] += nProcess #* 0.8\n",
    "                        processInv[28, hour:end] -= nProcess\n",
    "\n",
    "                        nMacUse[8] += 1\n",
    "                        if nMacUse[8] == maxMachine[8]\n",
    "                            notBusy8 = false\n",
    "                        end\n",
    "                    end\n",
    "                else\n",
    "                    nMacUse[8] += 1\n",
    "                    if nMacUse[8] == maxMachine[8]\n",
    "                        notBusy8 = false\n",
    "                    end\n",
    "                end\n",
    "            end\n",
    "                \n",
    "        end\n",
    "    end\n",
    "    return finishedInv\n",
    "end\n"
   ]
  },
  {
   "cell_type": "code",
   "execution_count": 278,
   "metadata": {
    "collapsed": false
   },
   "outputs": [
    {
     "data": {
      "text/plain": [
       "193.69400000000002"
      ]
     },
     "execution_count": 278,
     "metadata": {},
     "output_type": "execute_result"
    }
   ],
   "source": [
    "n = 100\n",
    "hourW = round(Int64,((21 * 7) - 20) * 0.85)\n",
    "machineSetup = [1 2 1 1 1 1 1 1]\n",
    "capacity = zeros(n,1)\n",
    "for i=1:n\n",
    "    temp = productACapacity(machineSetup)\n",
    "    capacity[i] += temp[end]\n",
    "end\n",
    "\n",
    "mean(capacity)\n"
   ]
  },
  {
   "cell_type": "code",
   "execution_count": 282,
   "metadata": {
    "collapsed": false
   },
   "outputs": [
    {
     "data": {
      "text/plain": [
       "250.04700000000014"
      ]
     },
     "execution_count": 282,
     "metadata": {},
     "output_type": "execute_result"
    }
   ],
   "source": [
    "n = 100\n",
    "hourW = round(Int64,((21 * 7) - 20) * 0.85)\n",
    "machineSetup = [1 2 1 2 1 1 1 1]\n",
    "capacity = zeros(n,1)\n",
    "for i=1:n\n",
    "    temp = productACapacity(machineSetup)\n",
    "    capacity[i] += temp[end]\n",
    "end\n",
    "\n",
    "mean(capacity)"
   ]
  },
  {
   "cell_type": "code",
   "execution_count": 291,
   "metadata": {
    "collapsed": false
   },
   "outputs": [
    {
     "data": {
      "text/plain": [
       "390.3"
      ]
     },
     "execution_count": 291,
     "metadata": {},
     "output_type": "execute_result"
    }
   ],
   "source": [
    "n = 100\n",
    "hourW = round(Int64,((21 * 7) - 20) * 0.85)\n",
    "machineSetup = [1 3 2 2 1 1 1 1]\n",
    "capacity = zeros(n,1)\n",
    "for i=1:n\n",
    "    temp = productACapacity(machineSetup)\n",
    "    capacity[i] += temp[end]\n",
    "end\n",
    "\n",
    "mean(capacity)"
   ]
  },
  {
   "cell_type": "code",
   "execution_count": 300,
   "metadata": {
    "collapsed": false
   },
   "outputs": [
    {
     "data": {
      "text/plain": [
       "431.9340000000001"
      ]
     },
     "execution_count": 300,
     "metadata": {},
     "output_type": "execute_result"
    }
   ],
   "source": [
    "n = 100\n",
    "hourW = round(Int64,((21 * 7) - 20) * 0.85)\n",
    "machineSetup = [2 3 2 2 1 1 1 1]\n",
    "capacity = zeros(n,1)\n",
    "for i=1:n\n",
    "    temp = productACapacity(machineSetup)\n",
    "    capacity[i] += temp[end]\n",
    "end\n",
    "\n",
    "mean(capacity)"
   ]
  },
  {
   "cell_type": "code",
   "execution_count": 309,
   "metadata": {
    "collapsed": false
   },
   "outputs": [
    {
     "data": {
      "text/plain": [
       "449.728"
      ]
     },
     "execution_count": 309,
     "metadata": {},
     "output_type": "execute_result"
    }
   ],
   "source": [
    "n = 100\n",
    "hourW = round(Int64,((21 * 7) - 20) * 0.85)\n",
    "machineSetup = [2 4 2 2 1 1 1 1]\n",
    "capacity = zeros(n,1)\n",
    "for i=1:n\n",
    "    temp = productACapacity(machineSetup)\n",
    "    capacity[i] += temp[end]\n",
    "end\n",
    "\n",
    "mean(capacity)"
   ]
  },
  {
   "cell_type": "code",
   "execution_count": 318,
   "metadata": {
    "collapsed": false
   },
   "outputs": [
    {
     "data": {
      "text/plain": [
       "619.723"
      ]
     },
     "execution_count": 318,
     "metadata": {},
     "output_type": "execute_result"
    }
   ],
   "source": [
    "n = 100\n",
    "hourW = round(Int64,((21 * 7) - 20) * 0.85)\n",
    "machineSetup = [2 4 2 3 1 1 1 1]\n",
    "capacity = zeros(n,1)\n",
    "for i=1:n\n",
    "    temp = productACapacity(machineSetup)\n",
    "    capacity[i] += temp[end]\n",
    "end\n",
    "\n",
    "mean(capacity)"
   ]
  },
  {
   "cell_type": "code",
   "execution_count": 327,
   "metadata": {
    "collapsed": false
   },
   "outputs": [
    {
     "data": {
      "text/plain": [
       "639.4259999999999"
      ]
     },
     "execution_count": 327,
     "metadata": {},
     "output_type": "execute_result"
    }
   ],
   "source": [
    "n = 100\n",
    "hourW = round(Int64,((21 * 7) - 20) * 0.85)\n",
    "machineSetup = [2 4 3 4 1 1 1 1]\n",
    "capacity = zeros(n,1)\n",
    "for i=1:n\n",
    "    temp = productACapacity(machineSetup)\n",
    "    capacity[i] += temp[end]\n",
    "end\n",
    "\n",
    "mean(capacity)"
   ]
  },
  {
   "cell_type": "code",
   "execution_count": 335,
   "metadata": {
    "collapsed": false
   },
   "outputs": [
    {
     "data": {
      "text/plain": [
       "637.533"
      ]
     },
     "execution_count": 335,
     "metadata": {},
     "output_type": "execute_result"
    }
   ],
   "source": [
    "n = 100\n",
    "hourW = round(Int64,((21 * 7) - 20) * 0.85)\n",
    "machineSetup = [2 5 3 4 1 1 1 1]\n",
    "capacity = zeros(n,1)\n",
    "for i=1:n\n",
    "    temp = productACapacity(machineSetup)\n",
    "    capacity[i] += temp[end]\n",
    "end\n",
    "\n",
    "mean(capacity)"
   ]
  },
  {
   "cell_type": "code",
   "execution_count": 344,
   "metadata": {
    "collapsed": false
   },
   "outputs": [
    {
     "data": {
      "text/plain": [
       "785.6830000000002"
      ]
     },
     "execution_count": 344,
     "metadata": {},
     "output_type": "execute_result"
    }
   ],
   "source": [
    "n = 100\n",
    "hourW = round(Int64,((21 * 7) - 20) * 0.85)\n",
    "machineSetup = [4 5 3 4 2 1 1 1]\n",
    "capacity = zeros(n,1)\n",
    "for i=1:n\n",
    "    temp = productACapacity(machineSetup)\n",
    "    capacity[i] += temp[end]\n",
    "end\n",
    "\n",
    "mean(capacity)"
   ]
  },
  {
   "cell_type": "code",
   "execution_count": 354,
   "metadata": {
    "collapsed": false
   },
   "outputs": [
    {
     "data": {
      "text/plain": [
       "845.1729999999995"
      ]
     },
     "execution_count": 354,
     "metadata": {},
     "output_type": "execute_result"
    }
   ],
   "source": [
    "n = 100\n",
    "hourW = round(Int64,((21 * 7) - 20) * 0.85)\n",
    "machineSetup = [4 5 3 4 2 2 1 1]\n",
    "capacity = zeros(n,1)\n",
    "for i=1:n\n",
    "    temp = productACapacity(machineSetup)\n",
    "    capacity[i] += temp[end]\n",
    "end\n",
    "\n",
    "mean(capacity)"
   ]
  },
  {
   "cell_type": "code",
   "execution_count": 371,
   "metadata": {
    "collapsed": false
   },
   "outputs": [
    {
     "name": "stdout",
     "output_type": "stream",
     "text": [
      "mean(capacity) = 1011.4280000000003\n",
      "std(capacity) = 45.631466371708065\n"
     ]
    }
   ],
   "source": [
    "n = 100\n",
    "hourW = round(Int64,((21 * 7) - 20) * 0.85)\n",
    "machineSetup = [4 6 3 4 2 2 1 1]\n",
    "capacity = zeros(n,1)\n",
    "for i=1:n\n",
    "    temp = productACapacity(machineSetup)\n",
    "    capacity[i] += temp[end]\n",
    "end\n",
    "\n",
    "@show mean(capacity)\n",
    "@show std(capacity)\n",
    ";"
   ]
  },
  {
   "cell_type": "code",
   "execution_count": 374,
   "metadata": {
    "collapsed": false
   },
   "outputs": [
    {
     "data": {
      "text/plain": [
       "1068.2430000000004"
      ]
     },
     "execution_count": 374,
     "metadata": {},
     "output_type": "execute_result"
    }
   ],
   "source": [
    "n = 100\n",
    "hourW = round(Int64,((21 * 7) - 20) * 0.85)\n",
    "machineSetup = [4 6 3 5 2 2 1 1]\n",
    "capacity = zeros(n,1)\n",
    "for i=1:n\n",
    "    temp = productACapacity(machineSetup)\n",
    "    capacity[i] += temp[end]\n",
    "end\n",
    "\n",
    "mean(capacity)\n"
   ]
  },
  {
   "cell_type": "code",
   "execution_count": null,
   "metadata": {
    "collapsed": true
   },
   "outputs": [],
   "source": []
  }
 ],
 "metadata": {
  "kernelspec": {
   "display_name": "Julia 0.4.6",
   "language": "julia",
   "name": "julia-0.4"
  },
  "language_info": {
   "file_extension": ".jl",
   "mimetype": "application/julia",
   "name": "julia",
   "version": "0.4.7"
  }
 },
 "nbformat": 4,
 "nbformat_minor": 0
}
