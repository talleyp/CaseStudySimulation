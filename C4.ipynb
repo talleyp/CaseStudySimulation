{
 "cells": [
  {
   "cell_type": "code",
   "execution_count": 1,
   "metadata": {
    "collapsed": false
   },
   "outputs": [
    {
     "data": {
      "text/plain": [
       "1"
      ]
     },
     "execution_count": 1,
     "metadata": {},
     "output_type": "execute_result"
    }
   ],
   "source": [
    "days = 20*5\n",
    "\n",
    "DemandC4 = [1800 1400 1700 1400 1600 0]\n",
    "\n",
    "Mfactor = 60;\n",
    "C41factor = 4;\n",
    "\n",
    "InvC4 = zeros(days+50,1)\n",
    "InvM = zeros(days+50,1)\n",
    "InvC41 = zeros(days+50,1)\n",
    "\n",
    "InvM[1:end] = 20;\n",
    "InvC41[1:end] = 40;\n",
    "\n",
    "cycleC4 = 1664\n",
    "\n",
    "t=1;\n",
    "demandMonth = 1\n",
    "nOrders=0\n",
    "noOrder = true\n",
    "while t < days\n",
    "    if t >= (demandMonth*20)\n",
    "        InvC4[t:end] -= DemandC4[demandMonth]\n",
    "        demandMonth += 1\n",
    "    end\n",
    "    if InvC4[t] > DemandC4[demandMonth]\n",
    "        keepProduction = false\n",
    "    else\n",
    "        keepProduction = true\n",
    "    end\n",
    "\n",
    "    Mleft = (DemandC4[demandMonth] - InvC4[t]) * Mfactor\n",
    "    C41left = (DemandC4[demandMonth] - InvC4[t]) * C41factor\n",
    "    if ((InvM[t] < Mleft) || (InvC41[t] < C41left)) && noOrder && keepProduction\n",
    "        nOrders+=1\n",
    "        tLast = t\n",
    "        tAdd = round(Int64,2*randn(1)[1] + 5)\n",
    "        if tAdd < 0\n",
    "            t+=0\n",
    "        else\n",
    "            t+=tAdd\n",
    "        end\n",
    "        \n",
    "        InvM[tLast:t] = InvM[tLast]\n",
    "        InvC41[tLast:t] = InvC41[tLast]\n",
    "        InvC4[tLast:t] = InvC4[tLast]\n",
    "        \n",
    "        InvM[t:end] += max(DemandC4[demandMonth]* Mfactor, cycleC4 * Mfactor * 7)\n",
    "        InvC41[t:end] += max(DemandC4[demandMonth]* C41factor, cycleC4 * C41factor * 7)\n",
    "    else\n",
    "        if InvC4[t] > DemandC4[demandMonth]\n",
    "            keepProduction = false\n",
    "        else\n",
    "            keepProduction = true\n",
    "        end\n",
    "\n",
    "        while ((InvM[t]-Mfactor)>0) && ((InvC41[t]-C41factor)>0) && ((t+1)<= days) && keepProduction          \n",
    "            prod = round(Int64, 200*randn(1)[1] + cycleC4/2)\n",
    "            nM = div(InvM[t], Mfactor)\n",
    "            nC41 = div(InvC41[t], C41factor)\n",
    "            \n",
    "            nC4 = min(nM, nC41, prod)\n",
    "            \n",
    "            InvC4[t:end] += nC4\n",
    "            InvM[t:end] -= nC4*Mfactor\n",
    "            InvC41[t:end] -= nC4*C41factor            \n",
    "            defect = rand()/10\n",
    "            \n",
    "            InvC4[t:end] -= round(Int64, InvC4[t+1]*defect)\n",
    "            if InvC4[t] > DemandC4[demandMonth]\n",
    "                break\n",
    "            end\n",
    "            t+=1\n",
    "            if t >= (demandMonth*20)\n",
    "                InvC4[t:end] -= DemandC4[demandMonth]\n",
    "                demandMonth += 1\n",
    "            end\n",
    "            Mleft = (DemandC4[demandMonth] - InvC4[t]) * Mfactor\n",
    "            C41left = (DemandC4[demandMonth] - InvC4[t]) * C41factor\n",
    "            if ((InvM[t] < Mleft) || (InvC41[t] < C41left)) && noOrder\n",
    "                noOrder = false\n",
    "                nOrders += 1\n",
    "                tLast = t\n",
    "                tAdd = round(Int64,2*randn(1)[1] + 5)\n",
    "                if tAdd < 0\n",
    "                    tOrder=t\n",
    "                else\n",
    "                    tOrder=tAdd+t\n",
    "                end\n",
    "\n",
    "                InvM[tLast:tOrder] = InvM[tLast]\n",
    "                InvC41[tLast:tOrder] = InvC41[tLast]\n",
    "                InvC4[tLast:tOrder] = InvC4[tLast]\n",
    "            end\n",
    "            if !noOrder\n",
    "                if !(((InvM[t]-Mfactor)>0) && ((InvC41[t]-C41factor)>0) && ((t+1)<= days) && keepProduction)\n",
    "                    t = tOrder\n",
    "                    noOrder = true\n",
    "                    InvM[t:end] += max(Mleft* Mfactor, cycleC4 * Mfactor * 7)\n",
    "                    InvC41[t:end] += max(C41left* C41factor, cycleC4 * C41factor * 7)\n",
    "                end\n",
    "                \n",
    "            end\n",
    "        end\n",
    "    end\n",
    "    t+=1\n",
    "end\n",
    "\n",
    "nOrders"
   ]
  },
  {
   "cell_type": "code",
   "execution_count": 2,
   "metadata": {
    "collapsed": false
   },
   "outputs": [
    {
     "name": "stdout",
     "output_type": "stream",
     "text": [
      "[Plots.jl] Initializing backend: pyplot\n"
     ]
    }
   ],
   "source": [
    "using Plots\n",
    "plot(1:(days+50), InvM/Mfactor, label = \"M scaled\",title=\"Inventory over 5 months\")\n",
    "plot!(1:(days+50), InvC41/C41factor, label=\"C41 scaled\")\n",
    "plot!(1:(days+50), InvC4, label=\"C4 actual\")\n",
    "\n",
    "using Images\n",
    "using FileIO\n",
    "savefig(\"c4invall.png\")"
   ]
  },
  {
   "cell_type": "code",
   "execution_count": 3,
   "metadata": {
    "collapsed": false
   },
   "outputs": [],
   "source": [
    "plot(1:(days+50), InvC4, label=\"C4\", title=\"Inventory of C4\")\n",
    "\n",
    "#using Images\n",
    "#using FileIO\n",
    "savefig(\"c4inv.png\")"
   ]
  },
  {
   "cell_type": "code",
   "execution_count": null,
   "metadata": {
    "collapsed": true
   },
   "outputs": [],
   "source": []
  }
 ],
 "metadata": {
  "anaconda-cloud": {},
  "kernelspec": {
   "display_name": "Julia 0.4.6",
   "language": "julia",
   "name": "julia-0.4"
  },
  "language_info": {
   "file_extension": ".jl",
   "mimetype": "application/julia",
   "name": "julia",
   "version": "0.4.7"
  }
 },
 "nbformat": 4,
 "nbformat_minor": 0
}
